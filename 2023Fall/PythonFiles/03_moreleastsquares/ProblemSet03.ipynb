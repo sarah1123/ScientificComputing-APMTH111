{
 "cells": [
  {
   "cell_type": "code",
   "execution_count": null,
   "id": "187c8b2b",
   "metadata": {},
   "outputs": [],
   "source": [
    "import numpy as np\n",
    "from scipy import linalg\n",
    "import matplotlib.pyplot as plt"
   ]
  },
  {
   "cell_type": "markdown",
   "id": "77d4c36e",
   "metadata": {},
   "source": [
    "## Questions 1, 2, 3a\n",
    "- submit via pdf\n",
    "- put any Python work related to these questions in the cell below"
   ]
  },
  {
   "cell_type": "code",
   "execution_count": null,
   "id": "9c4ad04d",
   "metadata": {},
   "outputs": [],
   "source": [
    "# Q1: calculations\n",
    "\n",
    "# Q2: calculations\n",
    "\n",
    "# Q3a: calculations\n"
   ]
  },
  {
   "cell_type": "markdown",
   "id": "b8c43e87",
   "metadata": {},
   "source": [
    "## Question 3b"
   ]
  },
  {
   "cell_type": "code",
   "execution_count": null,
   "id": "1c73b59e",
   "metadata": {},
   "outputs": [],
   "source": [
    "def c_exact(eps):\n",
    "    \"\"\"compute c_vector based on analytic work\"\"\"\n",
    "    \n",
    "    return c_vector"
   ]
  },
  {
   "cell_type": "markdown",
   "id": "d333e5c3",
   "metadata": {},
   "source": [
    "## Question 3c: submit via pdf\n",
    "\n",
    "## Question 3def:"
   ]
  },
  {
   "cell_type": "code",
   "execution_count": null,
   "id": "9b69dbb9",
   "metadata": {},
   "outputs": [],
   "source": [
    "# Question 3d\n",
    "\n",
    "def lstsqnormalinverse(A,y):\n",
    "    \"\"\"Solve least squares via normal equations and inversion\"\"\"\n",
    "    \n",
    "    return coefs\n",
    "\n",
    "def lstsqcholesky(A,y):\n",
    "    \"\"\"Solve least squares via normal equations and Cholesky factorization\"\"\"\n",
    "    \n",
    "    return coefs\n",
    "\n",
    "def lstsqQR(A,y):\n",
    "    \"\"\"Solve least squares via QR factorization and back-substitution\"\"\"\n",
    "\n",
    "    return coefs\n",
    "\n",
    "def lstsqSVD(A,y):\n",
    "    \"\"\"Solve least squares via SVD\"\"\"\n",
    "\n",
    "    return coefs\n",
    "\n",
    "\n",
    "def mat_A(eps):\n",
    "    \"\"\"Construct matrix A from the problem\"\"\"\n",
    "\n",
    "    A = np.array([[1.0, 1.0, 1.0],\n",
    "              [eps, 0.0, 0.0],\n",
    "              [0.0, eps, 0.0],\n",
    "              [0.0, 0.0, eps]])\n",
    "    return A"
   ]
  },
  {
   "cell_type": "code",
   "execution_count": null,
   "id": "5b6ff71a",
   "metadata": {},
   "outputs": [],
   "source": [
    "# Question 3e\n",
    "\n",
    "def compare_to_exact(eps_list, f_lst_sq):\n",
    "    \"\"\"\n",
    "    For each epsilon, construct A and y, compute the least squares solution,\n",
    "    and find the approximation to y based on that solution.  \n",
    "    Compare it to the approximation to y based on analytic work.\n",
    "    \n",
    "    Args:\n",
    "        eps_list --> array of epsilon values to use for this\n",
    "        f_lst_sq --> function to use to solve the least squares problem\n",
    "        \n",
    "    Returns:\n",
    "        A_c_minus_yhat --> array of distances between the \"exact\" y approximation and\n",
    "        the calculated y approximation\n",
    "    \"\"\"\n",
    "    \n",
    "    return A_c_minus_yhat"
   ]
  },
  {
   "cell_type": "code",
   "execution_count": null,
   "id": "bf45deef",
   "metadata": {},
   "outputs": [],
   "source": [
    "# For your reference:\n",
    "# Example looping through four methods\n",
    "\n",
    "functionlist = [lstsqnormalinverse,lstsqcholesky,lstsqQR,lstsqSVD]\n",
    "eps = 1e-7\n",
    "A = mat_A(eps)\n",
    "for f_lst_sq in functionlist:\n",
    "    print(f_lst_sq(A,y))"
   ]
  },
  {
   "cell_type": "code",
   "execution_count": null,
   "id": "015085ab",
   "metadata": {},
   "outputs": [],
   "source": [
    "# Question 3f: plot\n"
   ]
  },
  {
   "cell_type": "markdown",
   "id": "57468ef6",
   "metadata": {},
   "source": [
    "## Question 3g: submit via pdf\n",
    "\n",
    "## Question 4:"
   ]
  },
  {
   "cell_type": "code",
   "execution_count": null,
   "id": "d72a2a80",
   "metadata": {},
   "outputs": [],
   "source": [
    "# Helper function from the PDF to plot the ellipse\n",
    "def plot_ellipse(a, b, c, d, e, ax):\n",
    "    \"\"\"Plot an ellipse of the form ax^2 + bx + cxy + dy + ey^2 = 1.\"\"\"\n",
    "    theta = np.linspace(0, 2*np.pi, 200)\n",
    "    cos_t, sin_t = np.cos(theta), np.sin(theta)\n",
    "    A = a*(cos_t**2) + c*cos_t*sin_t + e*(sin_t**2)\n",
    "    B = b*cos_t + d*sin_t\n",
    "    r = (-B + np.sqrt(B**2 + 4*A)) / (2*A)\n",
    "    ax.plot(r*cos_t, r*sin_t, lw=2)\n",
    "    ax.set_aspect(\"equal\", \"datalim\")\n",
    "    \n",
    "def calculate_ellipse_parameters(xk, yk):\n",
    "    \"\"\"\n",
    "    Use a built-in least squares solver to approximate a,b,c,d,e\n",
    "    for data xk, yk according to the model\n",
    "    xk^2 a + xk b + xk*yk c + yk d + yk^2 e = 1\n",
    "    \n",
    "    Args:\n",
    "        xk, yk --> lists of x and y values for points on an ellipse\n",
    "        \n",
    "    Returns:\n",
    "        a,b,c,d,e --> ellipse coefficients\n",
    "    \"\"\"\n",
    "    \n",
    "    return a, b, c, d, e"
   ]
  },
  {
   "cell_type": "markdown",
   "id": "f87018c0",
   "metadata": {},
   "source": [
    "## Question 5ab"
   ]
  },
  {
   "cell_type": "code",
   "execution_count": null,
   "id": "fefde822",
   "metadata": {},
   "outputs": [],
   "source": [
    "# Question 5a\n",
    "y = np.loadtxt('windmill.txt')\n",
    "t = np.linspace(0, 5, len(y))\n",
    "\n",
    "def rough_model(t,y):\n",
    "    \"\"\"Fit the model y = c1 + cos(2pi t)c2 + sin(2pi t)c3 + cos(4pi t)c4 to the data\n",
    "    using a built-in linear least squares solver\"\"\"\n",
    "    \n",
    "    return coefs"
   ]
  },
  {
   "cell_type": "code",
   "execution_count": null,
   "id": "0bc405bf",
   "metadata": {},
   "outputs": [],
   "source": [
    "# Question 5b: plot\n"
   ]
  },
  {
   "cell_type": "markdown",
   "id": "3d3bc473",
   "metadata": {},
   "source": [
    "## Question 5c: submit via pdf\n",
    "\n",
    "## Question 6a: submit via pdf\n",
    "\n",
    "## Question 6bc"
   ]
  },
  {
   "cell_type": "code",
   "execution_count": null,
   "id": "df5064a0",
   "metadata": {},
   "outputs": [],
   "source": [
    "# Question 6b\n",
    "\n"
   ]
  },
  {
   "cell_type": "code",
   "execution_count": null,
   "id": "3c7f3ece",
   "metadata": {},
   "outputs": [],
   "source": [
    "# Question 6c\n",
    "\n",
    "def lstsqbuiltin(A,y):\n",
    "    \"\"\"Solve least squares via built-in\"\"\"\n",
    "    coefs, res, rnk, s = linalg.lstsq(A, y)\n",
    "    return coefs\n",
    "\n",
    "functionlist = [lstsqnormalinverse,lstsqcholesky,lstsqQR,lstsqSVD,lstsqbuiltin]\n"
   ]
  },
  {
   "cell_type": "markdown",
   "id": "1a8951f8",
   "metadata": {},
   "source": [
    "## Question 6d:\n",
    "- submit via pdf\n",
    "- put any related Python work in the cell below"
   ]
  },
  {
   "cell_type": "code",
   "execution_count": null,
   "id": "ec1fdd8a",
   "metadata": {},
   "outputs": [],
   "source": [
    "# Question 6d\n"
   ]
  }
 ],
 "metadata": {
  "kernelspec": {
   "display_name": "Python 3 (ipykernel)",
   "language": "python",
   "name": "python3"
  },
  "language_info": {
   "codemirror_mode": {
    "name": "ipython",
    "version": 3
   },
   "file_extension": ".py",
   "mimetype": "text/x-python",
   "name": "python",
   "nbconvert_exporter": "python",
   "pygments_lexer": "ipython3",
   "version": "3.9.12"
  }
 },
 "nbformat": 4,
 "nbformat_minor": 5
}
