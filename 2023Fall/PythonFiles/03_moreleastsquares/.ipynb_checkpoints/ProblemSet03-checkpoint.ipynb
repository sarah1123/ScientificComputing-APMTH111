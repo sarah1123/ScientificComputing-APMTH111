{
 "cells": [
  {
   "cell_type": "code",
   "execution_count": 4,
   "id": "422749a4-aa89-4804-a920-2ff0bc8df8e2",
   "metadata": {},
   "outputs": [],
   "source": [
    "import numpy as np\n",
    "from scipy import linalg\n",
    "import matplotlib.pyplot as plt"
   ]
  },
  {
   "cell_type": "markdown",
   "id": "0a3d64e9-7caf-4732-9e8a-fb33f8bda912",
   "metadata": {},
   "source": [
    "## Questions 1, 2\n",
    "- submit via pdf\n",
    "- put any Python work related to these questions in the cell below"
   ]
  },
  {
   "cell_type": "code",
   "execution_count": 2,
   "id": "94d9c5d6-203d-4ac9-908f-c4c463dd75e0",
   "metadata": {},
   "outputs": [],
   "source": [
    "# Q1\n",
    "\n",
    "# Q2\n"
   ]
  },
  {
   "cell_type": "markdown",
   "id": "ba96837b-7a3a-4225-8abb-6e969b1ba9e8",
   "metadata": {},
   "source": [
    "## Question 3a: submit via pdf\n",
    "\n",
    "## Question 3b"
   ]
  },
  {
   "cell_type": "code",
   "execution_count": null,
   "id": "8c1104e8-4464-46ca-98b8-4932039cb240",
   "metadata": {},
   "outputs": [],
   "source": [
    "# Q 3b\n",
    "\n",
    "def c_exact(eps):\n",
    "    \"\"\"Compute the exact solution to the linear least square problem.\"\"\"\n",
    "    \n",
    "    return np.array([c, c, c])\n",
    "\n",
    "\n"
   ]
  },
  {
   "cell_type": "markdown",
   "id": "1129201c-a597-4a3e-8e80-c54305e86e76",
   "metadata": {},
   "source": [
    "## Question 3c: submit via pdf\n",
    "\n",
    "## Question 3def"
   ]
  },
  {
   "cell_type": "code",
   "execution_count": null,
   "id": "c617d264-bffb-4256-8a69-b9a3de9819a8",
   "metadata": {},
   "outputs": [],
   "source": [
    "# question 3d\n",
    "\n",
    "def lstsqnormalinverse(A,y):\n",
    "    \"\"\"Solve least squares via normal equations and inversion\"\"\"\n",
    "    \n",
    "    return coefs\n",
    "\n",
    "def lstsqcholesky(A,y):\n",
    "    \"\"\"Solve least squares via normal equations and Cholesky factorization\"\"\"\n",
    "\n",
    "    return coefs\n",
    "\n",
    "def lstsqQR(A,y):\n",
    "    \"\"\"Solve least squares via QR factorization and back-substitution\"\"\"\n",
    "\n",
    "    return coefs\n",
    "\n",
    "def lstsqSVD(A,y):\n",
    "    \"\"\"Solve least squares via SVD\"\"\"\n",
    "\n",
    "    return coefs\n",
    "\n",
    "def mat_A(eps):\n",
    "    \"\"\"Construct matrix A from the problem\"\"\"\n",
    "\n",
    "    A = np.array([[1.0, 1.0, 1.0],\n",
    "              [eps, 0.0, 0.0],\n",
    "              [0.0, eps, 0.0],\n",
    "              [0.0, 0.0, eps]])\n",
    "    return A"
   ]
  },
  {
   "cell_type": "code",
   "execution_count": null,
   "id": "cec01fa7-b9c1-46ce-91a8-83b794126816",
   "metadata": {},
   "outputs": [],
   "source": [
    "# 3e\n",
    "def compare_to_exact(eps_list,f_lst_sq):\n",
    "    \"\"\"compare least squares model to data vector\"\"\"\n",
    "    return ac_minus_yexact\n"
   ]
  },
  {
   "cell_type": "code",
   "execution_count": null,
   "id": "d2f1c515-23a9-49c9-a184-cd72e9a2a7b0",
   "metadata": {},
   "outputs": [],
   "source": [
    "# For your reference:\n",
    "# Example looping through four methods\n",
    "\n",
    "functionlist = [lstsqnormalinverse,lstsqcholesky,lstsqQR,lstsqSVD]\n",
    "eps = 1e-7\n",
    "A = mat_A(eps)\n",
    "for f_lst_sq in functionlist:\n",
    "    print(f_lst_sq(A,y))"
   ]
  },
  {
   "cell_type": "code",
   "execution_count": null,
   "id": "dc807d90-8a1c-4188-8120-24e50b1bf9ca",
   "metadata": {},
   "outputs": [],
   "source": [
    "# 3f: plot"
   ]
  },
  {
   "cell_type": "markdown",
   "id": "8b4e6a30-0346-4a0c-b025-6a513b386f9d",
   "metadata": {},
   "source": [
    "## Question 3g: submit via pdf\n",
    "\n",
    "## Question 4"
   ]
  },
  {
   "cell_type": "code",
   "execution_count": 1,
   "id": "221cf024-7c3e-4087-976e-f24bec876546",
   "metadata": {},
   "outputs": [],
   "source": [
    "# Question 4\n",
    "\n",
    "def plot_ellipse(a, b, c, d, e, ax):\n",
    "    \"\"\"Plot an ellipse of the form ax^2 + bx + cxy + dy + ey^2 = 1.\"\"\"\n",
    "    theta = np.linspace(0, 2*np.pi, 200)\n",
    "    cos_t, sin_t = np.cos(theta), np.sin(theta)\n",
    "    A = a*(cos_t**2) + c*cos_t*sin_t + e*(sin_t**2)\n",
    "    B = b*cos_t + d*sin_t\n",
    "    r = (-B + np.sqrt(B**2 + 4*A)) / (2*A)\n",
    "    ax.plot(r*cos_t, r*sin_t, lw=2)\n",
    "    ax.set_aspect(\"equal\", \"datalim\")\n",
    "\n",
    "def calculate_ellipse_parameters(xk,yk):\n",
    "    \"\"\"\n",
    "    Use a built-in least squares solver to find the ellipse parameters\n",
    "    where the ellipse model is\n",
    "    xk**2 a + xk b + xk*yk c + yk d + yk**2 e = 1\n",
    "\n",
    "    Args:\n",
    "        xk, yk: the x and y values of the data\n",
    "\n",
    "    Returns:\n",
    "        a,b,c,d,e: the ellipse parameters as given above\n",
    "    \"\"\"\n",
    "    \n",
    "    return a, b, c, d, e"
   ]
  },
  {
   "cell_type": "markdown",
   "id": "c57ea022-f389-41f4-bc05-d126e6e73169",
   "metadata": {},
   "source": [
    "## Question 5ab (time permitting)"
   ]
  },
  {
   "cell_type": "code",
   "execution_count": null,
   "id": "7b9b74f1-4953-47db-8254-495167e2d623",
   "metadata": {},
   "outputs": [],
   "source": [
    "# Question 5a\n",
    "t = np.linspace(0, 5, len(b))\n",
    "\n",
    "def rough_model(t,y):\n",
    "    \"\"\" Fit c1 + cos(2pi t)c2 + sin(2pi t)c3 + c4 = y to the data\"\"\"\n",
    "    \n",
    "    return c_vector"
   ]
  },
  {
   "cell_type": "code",
   "execution_count": null,
   "id": "3a46f42c-068a-409b-ba20-4cc449d931ef",
   "metadata": {},
   "outputs": [],
   "source": [
    "# Question 5b: plot the data and the model function.\n"
   ]
  },
  {
   "cell_type": "markdown",
   "id": "75ffdc72-4fa4-49ff-8281-56452c8dcde0",
   "metadata": {},
   "source": [
    "## Question 5c (time permitting): submit via pdf\n",
    "\n",
    "## Question 6a (time permitting): submit via pdf\n",
    "\n",
    "## Question 6bc (time permitting):"
   ]
  },
  {
   "cell_type": "code",
   "execution_count": null,
   "id": "f207cbd7-9ac1-4720-b319-a03e3c163b3f",
   "metadata": {},
   "outputs": [],
   "source": [
    "# Question 6b: create synthetic data\n"
   ]
  },
  {
   "cell_type": "code",
   "execution_count": 2,
   "id": "dd5eefb8-88d8-4af1-91f2-fbedd59e8d82",
   "metadata": {},
   "outputs": [],
   "source": [
    "# Question 6c: \n",
    "\n",
    "def lstsqbuiltin(A,y):\n",
    "    \"\"\"Solve least squares via built-in\"\"\"\n",
    "    coefs, res, rnk, s = linalg.lstsq(A, y)\n",
    "    return coefs\n",
    "\n",
    "functiontouse = [lstsqnormalinverse,lstsqcholesky,lstsqQR,lstsqSVD,lstsqbuiltin]\n",
    "\n"
   ]
  },
  {
   "cell_type": "markdown",
   "id": "fa6be41b-f3a8-450e-b9f1-3b0ceee42e51",
   "metadata": {},
   "source": [
    "## Question 6d (time permitting): \n",
    "- submit via pdf\n",
    "- put any Python work related to this question in the cell below"
   ]
  },
  {
   "cell_type": "code",
   "execution_count": 3,
   "id": "92941564-12b8-4e29-8d40-9ba975841990",
   "metadata": {},
   "outputs": [],
   "source": [
    "# 6d"
   ]
  },
  {
   "cell_type": "code",
   "execution_count": null,
   "id": "fa00644a-cc11-4acd-84ba-5e75a868cdff",
   "metadata": {},
   "outputs": [],
   "source": []
  }
 ],
 "metadata": {
  "kernelspec": {
   "display_name": "Python 3 (ipykernel)",
   "language": "python",
   "name": "python3"
  },
  "language_info": {
   "codemirror_mode": {
    "name": "ipython",
    "version": 3
   },
   "file_extension": ".py",
   "mimetype": "text/x-python",
   "name": "python",
   "nbconvert_exporter": "python",
   "pygments_lexer": "ipython3",
   "version": "3.11.4"
  }
 },
 "nbformat": 4,
 "nbformat_minor": 5
}
