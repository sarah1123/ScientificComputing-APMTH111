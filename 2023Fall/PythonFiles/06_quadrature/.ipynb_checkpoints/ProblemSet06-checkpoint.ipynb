{
 "cells": [
  {
   "cell_type": "markdown",
   "id": "b96eb551-230a-437f-a624-24b62d77eec4",
   "metadata": {},
   "source": [
    "## Problem Set 06\n",
    "\n",
    "## question 1: submit via pdf\n",
    "## question 2: submit via pdf\n",
    "## question 3ab"
   ]
  },
  {
   "cell_type": "code",
   "execution_count": null,
   "id": "63d27d5b-2d36-478f-8d74-6f297d7df1a3",
   "metadata": {},
   "outputs": [],
   "source": [
    "# question 3a\n",
    "def trap(a,b,f):\n",
    "    "
   ]
  },
  {
   "cell_type": "code",
   "execution_count": null,
   "id": "6961fa02-8a98-44d6-be7a-40bea4912037",
   "metadata": {},
   "outputs": [],
   "source": [
    "# question 3b\n",
    "def simpsons(a,b,f):\n",
    "    "
   ]
  },
  {
   "cell_type": "markdown",
   "id": "d2ad373c-3690-4db5-82e3-f62ab78119b3",
   "metadata": {},
   "source": [
    "## question 3cd\n",
    "- submit via pdf\n",
    "- supporting work for 3d below"
   ]
  },
  {
   "cell_type": "code",
   "execution_count": null,
   "id": "fdece0c6-7f17-4f8a-9f04-6d7ff656031d",
   "metadata": {},
   "outputs": [],
   "source": [
    "# question 3d\n"
   ]
  },
  {
   "cell_type": "markdown",
   "id": "5684379c-623b-435c-ac9f-e5a3a860c6be",
   "metadata": {},
   "source": [
    "## question 4abcd"
   ]
  },
  {
   "cell_type": "code",
   "execution_count": null,
   "id": "1f95ebb8-c37a-4cea-9f32-3f132ed2a6de",
   "metadata": {},
   "outputs": [],
   "source": [
    "# question 4a\n",
    "def composite_trap(a,b,f,m):\n",
    "    "
   ]
  },
  {
   "cell_type": "code",
   "execution_count": null,
   "id": "27f79cc3-f000-459a-a85b-8972786afa9f",
   "metadata": {},
   "outputs": [],
   "source": [
    "# question 4b\n",
    "def composite_simpsons(a,b,f,m):\n",
    "    "
   ]
  },
  {
   "cell_type": "code",
   "execution_count": null,
   "id": "949675c1-462e-4837-b214-61b8ed7fe226",
   "metadata": {},
   "outputs": [],
   "source": [
    "# question 4c: loglog error plot trapezoid"
   ]
  },
  {
   "cell_type": "code",
   "execution_count": null,
   "id": "9dce685b-8af5-4aae-9d79-e5d73d5b9881",
   "metadata": {},
   "outputs": [],
   "source": [
    "# question 4c: loglog error plot simpsons"
   ]
  },
  {
   "cell_type": "markdown",
   "id": "dc80acfd-79e4-4a60-9ae8-fc15a2b00169",
   "metadata": {},
   "source": [
    "## question 4e: submit via pdf\n",
    "## question 5ab: submit via pdf\n",
    "## question 5c"
   ]
  },
  {
   "cell_type": "code",
   "execution_count": null,
   "id": "a75e18ea-8f15-482e-a2e5-02099280e899",
   "metadata": {},
   "outputs": [],
   "source": [
    "# question 5c"
   ]
  },
  {
   "cell_type": "markdown",
   "id": "2ddba610-da50-4dee-8ce4-85834989a89c",
   "metadata": {},
   "source": [
    "## question 5d: submit via pdf"
   ]
  }
 ],
 "metadata": {
  "kernelspec": {
   "display_name": "Python 3 (ipykernel)",
   "language": "python",
   "name": "python3"
  },
  "language_info": {
   "codemirror_mode": {
    "name": "ipython",
    "version": 3
   },
   "file_extension": ".py",
   "mimetype": "text/x-python",
   "name": "python",
   "nbconvert_exporter": "python",
   "pygments_lexer": "ipython3",
   "version": "3.11.4"
  }
 },
 "nbformat": 4,
 "nbformat_minor": 5
}
