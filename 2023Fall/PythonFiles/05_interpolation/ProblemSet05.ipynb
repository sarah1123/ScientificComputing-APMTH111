{
 "cells": [
  {
   "cell_type": "code",
   "execution_count": null,
   "id": "92b9f63a",
   "metadata": {},
   "outputs": [],
   "source": [
    "import numpy as np\n",
    "from scipy import linalg\n",
    "import matplotlib.pyplot as plt"
   ]
  },
  {
   "cell_type": "markdown",
   "id": "64456192",
   "metadata": {},
   "source": [
    "## Question 2abc"
   ]
  },
  {
   "cell_type": "code",
   "execution_count": null,
   "id": "686a3df9",
   "metadata": {},
   "outputs": [],
   "source": [
    "# 2a\n",
    "\n",
    "def lagrangehelper(xdata, ydata, xinterp):\n",
    "    \"\"\"\n",
    "    construct an n x m numpy array with each of the n Lj evaluated at each of \n",
    "     the m interpolation points\n",
    "    \n",
    "    Args:\n",
    "        xdata: x values of the interpolating points\n",
    "        ydata: y values of the interpolating points\n",
    "        xinterp: x values at which the interpolating polynomial will be evaluated\n",
    "        \n",
    "    Returns:\n",
    "        Ljmatrix: n x m numpy array with each of the n Lj evaluated at each of \n",
    "     the m interpolation points\n",
    "    \"\"\"\n",
    "    \n",
    "    return Ljmatrix\n"
   ]
  },
  {
   "cell_type": "code",
   "execution_count": null,
   "id": "1440729a",
   "metadata": {},
   "outputs": [],
   "source": [
    "# 2b\n",
    "\n",
    "def lagrange(xdata, ydata, xinterp):\n",
    "    \"\"\"\n",
    "    construct and evaluate an interpolating polynomial\n",
    "    \n",
    "    Args:\n",
    "        xdata: x values of the interpolating points\n",
    "        ydata: y values of the interpolating points\n",
    "        xinterp: x values at which the interpolating polynomial will be evaluated\n",
    "        \n",
    "    Returns:\n",
    "        yinterp: y values of the interpolating polynomial\n",
    "    \"\"\"\n",
    "    \n",
    "    \n",
    "    return yinterp\n",
    "\n"
   ]
  },
  {
   "cell_type": "code",
   "execution_count": null,
   "id": "8536635b",
   "metadata": {},
   "outputs": [],
   "source": [
    "# 2c test by plotting f(x) = 1/(1+25x**2) and your interpolating polynomial"
   ]
  },
  {
   "cell_type": "markdown",
   "id": "8711ce93",
   "metadata": {},
   "source": [
    "## 3a submit via pdf\n",
    "\n",
    "## 3bc"
   ]
  },
  {
   "cell_type": "code",
   "execution_count": null,
   "id": "d9cee6b8",
   "metadata": {},
   "outputs": [],
   "source": [
    "# 3b\n",
    "def cubic(x,xi,xi1,yi,yi1,ci,ci1):\n",
    "    \n",
    "    return y"
   ]
  },
  {
   "cell_type": "code",
   "execution_count": null,
   "id": "8fec26ae",
   "metadata": {},
   "outputs": [],
   "source": [
    "# 3c"
   ]
  },
  {
   "cell_type": "markdown",
   "id": "3c854b33",
   "metadata": {},
   "source": [
    "## 3de submit via pdf\n",
    "\n",
    "## 3f"
   ]
  },
  {
   "cell_type": "code",
   "execution_count": null,
   "id": "018b86ab",
   "metadata": {},
   "outputs": [],
   "source": [
    "# 3f"
   ]
  },
  {
   "cell_type": "markdown",
   "id": "7fee05a2",
   "metadata": {},
   "source": [
    "## 3g submit via pdf\n",
    "\n",
    "## 3h"
   ]
  },
  {
   "cell_type": "code",
   "execution_count": null,
   "id": "4c3800f4",
   "metadata": {},
   "outputs": [],
   "source": [
    "# 3h"
   ]
  },
  {
   "cell_type": "markdown",
   "id": "50b55d8d",
   "metadata": {},
   "source": [
    "## 3i submit via pdf\n",
    "\n",
    "## 3j"
   ]
  },
  {
   "cell_type": "code",
   "execution_count": null,
   "id": "fb9e77fc",
   "metadata": {},
   "outputs": [],
   "source": [
    "# 3j"
   ]
  },
  {
   "cell_type": "markdown",
   "id": "d68072e3",
   "metadata": {},
   "source": [
    "## 4ab"
   ]
  },
  {
   "cell_type": "code",
   "execution_count": null,
   "id": "7d0f720a",
   "metadata": {},
   "outputs": [],
   "source": [
    "# 4a"
   ]
  },
  {
   "cell_type": "code",
   "execution_count": null,
   "id": "957da2bc",
   "metadata": {},
   "outputs": [],
   "source": [
    "# 4b"
   ]
  },
  {
   "cell_type": "markdown",
   "id": "716b2059",
   "metadata": {},
   "source": [
    "## 4c: submit via pdf\n",
    "\n",
    "## 5 (1.) (2.)"
   ]
  },
  {
   "cell_type": "code",
   "execution_count": null,
   "id": "c2f3dcdf",
   "metadata": {},
   "outputs": [],
   "source": [
    "# 5 (1.)"
   ]
  },
  {
   "cell_type": "code",
   "execution_count": null,
   "id": "9504af0d",
   "metadata": {},
   "outputs": [],
   "source": [
    "# 5 (2.)"
   ]
  },
  {
   "cell_type": "markdown",
   "id": "0f402d4b",
   "metadata": {},
   "source": [
    "## 6abc"
   ]
  },
  {
   "cell_type": "code",
   "execution_count": null,
   "id": "eb1b6636",
   "metadata": {},
   "outputs": [],
   "source": [
    "# 6a"
   ]
  },
  {
   "cell_type": "code",
   "execution_count": null,
   "id": "017c6f47",
   "metadata": {},
   "outputs": [],
   "source": [
    "# 6b"
   ]
  },
  {
   "cell_type": "code",
   "execution_count": null,
   "id": "cbd759f7",
   "metadata": {},
   "outputs": [],
   "source": [
    "# 6c"
   ]
  },
  {
   "cell_type": "markdown",
   "id": "a4c55d5f",
   "metadata": {},
   "source": [
    "## 7abc"
   ]
  },
  {
   "cell_type": "code",
   "execution_count": null,
   "id": "97fc85a3",
   "metadata": {},
   "outputs": [],
   "source": [
    "# 7a"
   ]
  },
  {
   "cell_type": "code",
   "execution_count": null,
   "id": "ae2afafc",
   "metadata": {},
   "outputs": [],
   "source": [
    "# 7b"
   ]
  },
  {
   "cell_type": "code",
   "execution_count": null,
   "id": "4e84c44c",
   "metadata": {},
   "outputs": [],
   "source": [
    "# 7c"
   ]
  }
 ],
 "metadata": {
  "kernelspec": {
   "display_name": "Python 3 (ipykernel)",
   "language": "python",
   "name": "python3"
  },
  "language_info": {
   "codemirror_mode": {
    "name": "ipython",
    "version": 3
   },
   "file_extension": ".py",
   "mimetype": "text/x-python",
   "name": "python",
   "nbconvert_exporter": "python",
   "pygments_lexer": "ipython3",
   "version": "3.9.12"
  }
 },
 "nbformat": 4,
 "nbformat_minor": 5
}
