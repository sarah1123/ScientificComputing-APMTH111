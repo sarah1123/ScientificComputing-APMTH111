{
 "cells": [
  {
   "cell_type": "markdown",
   "id": "dff7a3bb-3de4-4923-8bf9-e93ba89e8a7a",
   "metadata": {},
   "source": [
    "## Problem Set 08\n",
    "\n",
    "## 1: submit separately\n",
    "\n",
    "## 2ab: submit via pdf\n",
    "## 2c"
   ]
  },
  {
   "cell_type": "code",
   "execution_count": null,
   "id": "2a571be4-8f2c-439a-a195-667d25c4f6c3",
   "metadata": {},
   "outputs": [],
   "source": [
    "import numpy as np\n",
    "import matplotlib.pyplot as plt\n",
    "import sympy as sy"
   ]
  },
  {
   "cell_type": "code",
   "execution_count": null,
   "id": "2db9dd71-0dd4-4f46-8f38-0b86b92370d7",
   "metadata": {},
   "outputs": [],
   "source": [
    "# 2c\n",
    "def fxx_extrapolated(f,x,hlist):\n",
    "    "
   ]
  },
  {
   "cell_type": "markdown",
   "id": "2c11c9f9-d23d-412d-ad63-d565fcbc0b7c",
   "metadata": {},
   "source": [
    "## 3a: submit via pdf\n",
    "## 3b"
   ]
  },
  {
   "cell_type": "code",
   "execution_count": null,
   "id": "9c3435af-308d-4f97-8467-1c0e0d377e78",
   "metadata": {},
   "outputs": [],
   "source": [
    "# 3b\n",
    "def fx_three_point(f,x,hlist):"
   ]
  },
  {
   "cell_type": "markdown",
   "id": "be467dcf-d650-467d-ab8c-59fa332aca8b",
   "metadata": {},
   "source": [
    "## 4abc"
   ]
  },
  {
   "cell_type": "code",
   "execution_count": null,
   "id": "bf29a2c4-ed43-4e7e-9171-5d6136366783",
   "metadata": {},
   "outputs": [],
   "source": [
    "# 4a symbolic\n"
   ]
  },
  {
   "cell_type": "code",
   "execution_count": null,
   "id": "c4a34479-c17d-4ad4-8149-1efe7be6a7e6",
   "metadata": {},
   "outputs": [],
   "source": [
    "# 4b error vectors\n"
   ]
  },
  {
   "cell_type": "code",
   "execution_count": null,
   "id": "2fa927ac-ee0b-464a-8a12-66e10cb2ada7",
   "metadata": {},
   "outputs": [],
   "source": [
    "# 4c plot\n"
   ]
  },
  {
   "cell_type": "markdown",
   "id": "430be33b-7605-4332-b1e1-3ce0417fa844",
   "metadata": {},
   "source": [
    "## 4d: submit via pdf\n",
    "\n",
    "## 5abcd\n",
    "## 5e: submit via pdf"
   ]
  },
  {
   "cell_type": "code",
   "execution_count": null,
   "id": "07d1f006-ba0a-4fed-b58c-7c064d8ff7d5",
   "metadata": {},
   "outputs": [],
   "source": [
    "# 5a\n",
    "def dfdx(x_data,y_data):"
   ]
  },
  {
   "cell_type": "code",
   "execution_count": null,
   "id": "4a5337fc-710e-4baf-a6e7-b39d73170a1c",
   "metadata": {},
   "outputs": [],
   "source": [
    "# 5b\n",
    "# load the data\n",
    "t,x = np.load(\"pend30.npy\").T\n",
    "plt.plot(t,x)\n",
    "\n",
    "# approximate derivative\n"
   ]
  },
  {
   "cell_type": "code",
   "execution_count": null,
   "id": "9c4ed6cd-eec0-441d-bbff-45f7adaf0368",
   "metadata": {},
   "outputs": [],
   "source": [
    "# 5c least squares error estimate\n"
   ]
  },
  {
   "cell_type": "code",
   "execution_count": null,
   "id": "f33b6c08-f4b2-40ef-9822-3dd3af249788",
   "metadata": {},
   "outputs": [],
   "source": [
    "# smoothing splines"
   ]
  },
  {
   "cell_type": "markdown",
   "id": "484c5a71-a57d-4cc1-90c6-3b6f20fd933f",
   "metadata": {},
   "source": [
    "## 6: submit via pdf"
   ]
  },
  {
   "cell_type": "code",
   "execution_count": null,
   "id": "2de070bd-e5ff-400b-a4e0-9a4a68589877",
   "metadata": {},
   "outputs": [],
   "source": []
  }
 ],
 "metadata": {
  "kernelspec": {
   "display_name": "Python 3 (ipykernel)",
   "language": "python",
   "name": "python3"
  },
  "language_info": {
   "codemirror_mode": {
    "name": "ipython",
    "version": 3
   },
   "file_extension": ".py",
   "mimetype": "text/x-python",
   "name": "python",
   "nbconvert_exporter": "python",
   "pygments_lexer": "ipython3",
   "version": "3.9.6"
  }
 },
 "nbformat": 4,
 "nbformat_minor": 5
}
