{
 "cells": [
  {
   "cell_type": "markdown",
   "id": "e6fd4515-8470-4ced-9a64-bce5af39ed76",
   "metadata": {},
   "source": [
    "## Problem Set 07\n",
    "\n",
    "## 2abcd"
   ]
  },
  {
   "cell_type": "code",
   "execution_count": null,
   "id": "1f427914-ee60-4f1b-b52e-a0899f6335d8",
   "metadata": {},
   "outputs": [],
   "source": [
    "# 2a\n",
    "def chi(xd):\n",
    "    \"\"\"takes a vector of points as input and returns a vector \n",
    "    indicating for each point whether it is in a unit ball.\n",
    "    \n",
    "    The function should allow the points to be of any (unspecified) dimension.\"\"\""
   ]
  },
  {
   "cell_type": "code",
   "execution_count": null,
   "id": "49550fff-eb5e-4319-99fa-b1a48c02e886",
   "metadata": {},
   "outputs": [],
   "source": [
    "# 2b: trapezoid rule in 3d"
   ]
  },
  {
   "cell_type": "code",
   "execution_count": null,
   "id": "a0ff438e-efd9-43bb-a785-a89e63ef679a",
   "metadata": {},
   "outputs": [],
   "source": [
    "# 2c: Monte Carlo in 3d"
   ]
  },
  {
   "cell_type": "code",
   "execution_count": null,
   "id": "f42089e9-3207-4f66-a4ae-c1c2d653d414",
   "metadata": {},
   "outputs": [],
   "source": [
    "# 2d: Monte Carlo for 10-sphere"
   ]
  },
  {
   "cell_type": "markdown",
   "id": "5d4a1046-515e-462f-87fd-e2bafcf94841",
   "metadata": {},
   "source": [
    "## 2e\n",
    "- submit via pdf\n",
    "- calculation work can be below\n"
   ]
  },
  {
   "cell_type": "code",
   "execution_count": null,
   "id": "168edb8d-5d2b-48a5-8183-d1d094036cfa",
   "metadata": {},
   "outputs": [],
   "source": [
    "# 2e calculation space"
   ]
  },
  {
   "cell_type": "markdown",
   "id": "761cdc4d-9b95-45ea-958b-c5f28cc7265f",
   "metadata": {},
   "source": [
    "## 3ab: submit via pdf\n",
    "## 4ab"
   ]
  },
  {
   "cell_type": "code",
   "execution_count": null,
   "id": "60a8d8ae-b99d-4b89-b657-4d015ffcfc7f",
   "metadata": {},
   "outputs": [],
   "source": [
    "# batman helper functions\n",
    "\n",
    "def batman_upper(x):\n",
    "    f = (h(x)-l(x))*np.heaviside(x+1.0, 0.5) + \\\n",
    "    (r(x)-h(x))*np.heaviside(x-1.0, 0.5)+ \\\n",
    "    (l(x)-w(x))*np.heaviside(x+3.0, 0.5) + \\\n",
    "    (w(x)-r(x))*np.heaviside(x-3.0, 0.5) +w(x)  \n",
    "    \n",
    "    return np.real(f)\n",
    "\n",
    "def batman_lower(x):\n",
    "    f = 0.5*(np.abs(0.5*x) + sqrt(1.0 - (np.abs(np.abs(x)-2.0)-1.0)**2) - \\\n",
    "        (1.0/112.0)*(3.0*sqrt(33.0)-7.0)*x**2 \\\n",
    "        + 3.0*sqrt(1.0-(x/7.0)**2)-3.0) * (np.sign(x+4.0)-np.sign(x-4.0))-\\\n",
    "        3.0*sqrt(1.0-(x/7.0)**2)\n",
    "\n",
    "    return np.real(f)\n",
    "\n",
    "def w(x):\n",
    "    return 3.0*sqrt(1.0-(x/7.0)**2)\n",
    "\n",
    "def l(x):\n",
    "    return 0.5*(x+3.0)-(3.0/7.0)*sqrt(10.0)*sqrt(4.0-(x+1.0)**2) + \\\n",
    "        (6.0/7.0)*sqrt(10.0);\n",
    "    \n",
    "def h(x):\n",
    "    return 0.5*(3.0*(np.abs(x-0.5)+np.abs(x+0.5)+6.0)-\\\n",
    "        11.0*(np.abs(x+0.75)+np.abs(x-0.75)));\n",
    "\n",
    "def r(x):\n",
    "    return 0.5*(3.0-x) - (3.0/7.0)*sqrt(10.0)*sqrt(4.0-(x-1.0)**2) + \\\n",
    "        (6.0/7.0)*sqrt(10.0);\n",
    "\n",
    "def sqrt(x):\n",
    "    return np.lib.scimath.sqrt(x)"
   ]
  },
  {
   "cell_type": "code",
   "execution_count": null,
   "id": "f4de8351-51ec-4984-b0fd-27ebde8e6d34",
   "metadata": {},
   "outputs": [],
   "source": [
    "# 4a: adaptive quadrature with Simpson's"
   ]
  },
  {
   "cell_type": "code",
   "execution_count": null,
   "id": "907143c7-474b-42ca-930b-0ddfe28ad8eb",
   "metadata": {},
   "outputs": [],
   "source": [
    "# 4b: estimate area"
   ]
  },
  {
   "cell_type": "markdown",
   "id": "c6f5ce78-2cae-4090-97e5-bdd4d5d175cf",
   "metadata": {},
   "source": [
    "## 4c\n",
    "- submit via pdf\n",
    "- calculation space below"
   ]
  },
  {
   "cell_type": "code",
   "execution_count": null,
   "id": "ef05720b-6db6-470b-9d9f-d8fb312e50ea",
   "metadata": {},
   "outputs": [],
   "source": [
    "# 4c"
   ]
  },
  {
   "cell_type": "markdown",
   "id": "726cab9c-0590-47d6-8e43-99ecf50faf96",
   "metadata": {},
   "source": [
    "## 4d submit via pdf"
   ]
  },
  {
   "cell_type": "code",
   "execution_count": null,
   "id": "0570cf57-3e95-4ca7-a155-8530ec8d6466",
   "metadata": {},
   "outputs": [],
   "source": []
  }
 ],
 "metadata": {
  "kernelspec": {
   "display_name": "Python 3 (ipykernel)",
   "language": "python",
   "name": "python3"
  },
  "language_info": {
   "codemirror_mode": {
    "name": "ipython",
    "version": 3
   },
   "file_extension": ".py",
   "mimetype": "text/x-python",
   "name": "python",
   "nbconvert_exporter": "python",
   "pygments_lexer": "ipython3",
   "version": "3.9.6"
  }
 },
 "nbformat": 4,
 "nbformat_minor": 5
}
