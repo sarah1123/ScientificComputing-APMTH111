{
 "cells": [
  {
   "cell_type": "markdown",
   "id": "2585b6f8-4ff6-464d-8810-089cc34d7871",
   "metadata": {},
   "source": [
    "## Week 07: Gaussian quadrature, adaptive quadrature, Monte Carlo integration\n",
    "### Math goals\n",
    "- show two functions are orthogonal given an inner product\n",
    "- use Gaussian quadrature to approximate integrals\n",
    "- set up and reason about Monte Carlo approximation to an integral\n",
    "- describe how an adaptive method works\n",
    "\n",
    "### Python goals\n",
    "1. implement a Python function that can take vectorized coordinate inputs and return a vector output to a piecewise mathematical function\n",
    "2. use a list comprehension to call a Python function on individual points and create a vector of outputs\n"
   ]
  },
  {
   "cell_type": "code",
   "execution_count": null,
   "id": "b63966ff-dac0-4b32-8f84-4649b828fc9d",
   "metadata": {},
   "outputs": [],
   "source": []
  }
 ],
 "metadata": {
  "kernelspec": {
   "display_name": "Python 3 (ipykernel)",
   "language": "python",
   "name": "python3"
  },
  "language_info": {
   "codemirror_mode": {
    "name": "ipython",
    "version": 3
   },
   "file_extension": ".py",
   "mimetype": "text/x-python",
   "name": "python",
   "nbconvert_exporter": "python",
   "pygments_lexer": "ipython3",
   "version": "3.11.4"
  }
 },
 "nbformat": 4,
 "nbformat_minor": 5
}
