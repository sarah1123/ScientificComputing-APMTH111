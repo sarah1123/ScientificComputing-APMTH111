{
 "cells": [
  {
   "cell_type": "markdown",
   "id": "d7995dc3",
   "metadata": {},
   "source": [
    "## Week 01: Floating point and Python examples\n",
    "### Math goals\n",
    "- convert between binary and decimal\n",
    "- express a number using a floating point system\n",
    "- describe the impact of truncating vs rounding\n",
    "- subtract binary numbers\n",
    "\n",
    "### Python goals\n",
    "- import\n",
    "- define and use functions\n",
    "- generate random numbers\n",
    "- write `for` loops\n",
    "- create an array\n",
    "- vectorized code\n",
    "- timing code\n",
    "- write `while` loops\n",
    "- create and append to a list\n",
    "- plot"
   ]
  },
  {
   "cell_type": "markdown",
   "id": "b4de7214",
   "metadata": {},
   "source": [
    "Import modules"
   ]
  },
  {
   "cell_type": "code",
   "execution_count": 27,
   "id": "c85a4ceb",
   "metadata": {},
   "outputs": [],
   "source": [
    "import numpy as np\n",
    "import matplotlib.pyplot as plt\n",
    "import timeit\n",
    "rng = np.random.default_rng(seed=5)\n",
    "\n",
    "# A \"seed\" makes the random numbers that are generated reproducible.\n",
    "# We may ask you to use a seed so that we can more easily understand your work."
   ]
  },
  {
   "cell_type": "markdown",
   "id": "7bbbfb19",
   "metadata": {},
   "source": [
    "### Compare rounding and truncation\n",
    "\n",
    "Look at the impact of rounding and of truncation on the mean value of a set of numbers.\n",
    "\n",
    "#### Examples in the next cell\n",
    "- function definition (and return)\n",
    "- random number generation\n",
    "- rounding to an integer\n",
    "- truncating to an integer\n",
    "\n",
    "#### Function names, variable names, and function documentation\n",
    "From the Python style guide: https://peps.python.org/pep-0008/\n",
    "- Function names should be lowercase, with words separated by underscores as necessary to improve readability. \n",
    "- Variable names follow the same convention as function names.\n",
    "\n",
    "Documenting functions: https://peps.python.org/pep-0257/ and more on documenting them: https://realpython.com/documenting-python-code/#docstring-formats\n",
    "\n",
    "#### Syntax notes\n",
    "See the numpy documentation for information about random number generation. https://numpy.org/doc/stable/reference/random/generated/numpy.random.uniform.html\n"
   ]
  },
  {
   "cell_type": "code",
   "execution_count": 14,
   "id": "ca7c291d",
   "metadata": {},
   "outputs": [
    {
     "name": "stdout",
     "output_type": "stream",
     "text": [
      "sample mean: 50.52746681946089\n",
      "round first: 50.5232\n",
      "truncate first: 50.0288\n",
      "sample mean - rounded: 0.004266819460887916\n",
      "sample mean - truncated: 0.49866681946089386\n"
     ]
    }
   ],
   "source": [
    "def compare_rounding_truncation(num_values):\n",
    "    \"\"\"Generate a sample. Return the mean, mean after rounding, mean after truncating\n",
    "\n",
    "    Args:\n",
    "        num_values -- the number of values in the sample\n",
    "    \n",
    "    Returns:\n",
    "        sample_mean -- mean of the random numbers\n",
    "        rounded_mean -- mean of the rounded numbers\n",
    "        truncated_mean -- mean of the truncated numbers\n",
    "    \"\"\"\n",
    "    values = rng.uniform(low=0.0,high=100.0,size=num_values)\n",
    "    sample_mean = np.mean(values)\n",
    "    rounded_mean = np.mean(np.round(values))\n",
    "    truncated_mean = np.mean(np.floor(values))\n",
    "    return sample_mean, rounded_mean, truncated_mean\n",
    "\n",
    "[sample,rounded,truncated] = compare_rounding_truncation(10000)\n",
    "print(\"sample mean:\",sample)\n",
    "print(\"round first:\", rounded)\n",
    "print(\"truncate first:\", truncated)\n",
    "print(\"sample mean - rounded:\",sample - rounded)\n",
    "print(\"sample mean - truncated:\",sample - truncated)\n",
    "\n",
    "# Why is the difference between the mean of the random \n",
    "#  numbers and the mean of the truncated numbers ~0.5?"
   ]
  },
  {
   "cell_type": "markdown",
   "id": "0227e892",
   "metadata": {},
   "source": [
    "### Create stock prices\n",
    "Create a set of (synthetic) stock prices and then select some of the stocks at random.\n",
    "\n",
    "#### Examples in next cell\n",
    "- function definition (and return)\n",
    "- write `for` loop\n",
    "- create an array\n",
    "- vectorized code"
   ]
  },
  {
   "cell_type": "code",
   "execution_count": 43,
   "id": "2f1f1a08",
   "metadata": {},
   "outputs": [
    {
     "name": "stdout",
     "output_type": "stream",
     "text": [
      "[2.69044686e+03 6.22146323e+02 2.32658442e+02 8.88135961e+01\n",
      " 1.92153555e+04 3.64108931e+03 4.48880606e+02 2.32658442e+02\n",
      " 1.61399913e+01 4.91415721e+01]\n",
      "[2.69044686e+03 6.22146323e+02 2.32658442e+02 8.88135961e+01\n",
      " 1.92153555e+04 3.64108931e+03 4.48880606e+02 2.32658442e+02\n",
      " 1.61399913e+01 4.91415721e+01]\n"
     ]
    }
   ],
   "source": [
    "# Use a lognormal distribution for stock prices\n",
    "\n",
    "def pick_stocks_use_loop(num_stocks, num_picks):\n",
    "    \"\"\"Generate a set of stocks and a list of random picks.\n",
    "\n",
    "    Args:\n",
    "        num_stocks -- the number of stocks to create\n",
    "        num_picks -- the number of times to pick a stock\n",
    "    \n",
    "    Returns:\n",
    "        stock_picks -- values of picked stocks\n",
    "    \"\"\"\n",
    "    stock_list = rng.lognormal(mean=5,sigma=2, size=num_stocks)\n",
    "    # Initialize the picks to zero and then fill the values in via the loop.\n",
    "    stock_picks = np.zeros(num_picks)\n",
    "    for pick in range(num_picks):\n",
    "        stock_index = rng.integers(num_stocks)\n",
    "        stock_picks[pick] = (stock_list[stock_index])\n",
    "        \n",
    "    return stock_picks\n",
    "\n",
    "def pick_stocks_vectorized(num_stocks, num_picks):\n",
    "    \"\"\"Generate a set of stocks and a list of random picks.\n",
    "\n",
    "    Args:\n",
    "        num_stocks -- the number of stocks to create\n",
    "        num_picks -- the number of times to pick a stock\n",
    "    \n",
    "    Returns:\n",
    "        stock_list[pick_list] -- values of picked stocks\n",
    "    \"\"\"\n",
    "    stock_list = rng.lognormal(mean=5,sigma=2, size=num_stocks)\n",
    "    pick_list = rng.integers(num_stocks,size=num_picks)\n",
    "    \n",
    "    return stock_list[pick_list]\n",
    "\n",
    "rng = np.random.default_rng(seed=5)\n",
    "picks1 = pick_stocks_use_loop(60,10)\n",
    "rng = np.random.default_rng(seed=5)\n",
    "picks2 = pick_stocks_vectorized(60,10)\n",
    "print(picks1)\n",
    "print(picks2)\n",
    "\n",
    "# What impact did re-initializing rng with a particular seed have?\n",
    "# How do the two functions compare?"
   ]
  },
  {
   "cell_type": "markdown",
   "id": "83cc3f6d",
   "metadata": {},
   "source": [
    "### Timing code\n",
    "We can use `%%timeit` (a magic function from IPython: https://ipython.readthedocs.io/en/stable/interactive/tutorial.html#magic-functions) to profile code.\n",
    "\n",
    "I compare the `for` version with the vectorized version by timing them both.  The vectorized version is about 10% faster on my machine"
   ]
  },
  {
   "cell_type": "code",
   "execution_count": 31,
   "id": "6f96fdaa",
   "metadata": {},
   "outputs": [
    {
     "name": "stdout",
     "output_type": "stream",
     "text": [
      "75.5 µs ± 3.84 µs per loop (mean ± std. dev. of 7 runs, 10,000 loops each)\n"
     ]
    }
   ],
   "source": [
    "%%timeit\n",
    "rng = np.random.default_rng(seed=5)\n",
    "picks1 = pick_stocks_use_loop(60,10)"
   ]
  },
  {
   "cell_type": "code",
   "execution_count": 29,
   "id": "d975cc2c",
   "metadata": {},
   "outputs": [
    {
     "name": "stdout",
     "output_type": "stream",
     "text": [
      "68.1 µs ± 5.14 µs per loop (mean ± std. dev. of 7 runs, 10,000 loops each)\n"
     ]
    }
   ],
   "source": [
    "%%timeit\n",
    "rng = np.random.default_rng(seed=5)\n",
    "picks2 = pick_stocks_vectorized(60,10)"
   ]
  },
  {
   "cell_type": "markdown",
   "id": "f1273162",
   "metadata": {},
   "source": [
    "### Overflow\n",
    "Explore overflow for `float16`\n",
    "\n",
    "#### Examples in next cell\n",
    "- write `while` loops\n",
    "- create and append to a list\n",
    "- plot"
   ]
  },
  {
   "cell_type": "code",
   "execution_count": 60,
   "id": "1f00b4b3",
   "metadata": {},
   "outputs": [
    {
     "name": "stdout",
     "output_type": "stream",
     "text": [
      "value: 1.0 exponent: 0.0\n",
      "value: 2.0 exponent: 1.0\n",
      "value: 4.0 exponent: 2.0\n",
      "value: 8.0 exponent: 3.0\n",
      "value: 16.0 exponent: 4.0\n",
      "value: 32.0 exponent: 5.0\n",
      "value: 64.0 exponent: 6.0\n",
      "value: 128.0 exponent: 7.0\n",
      "value: 256.0 exponent: 8.0\n",
      "value: 512.0 exponent: 9.0\n",
      "value: 1024.0 exponent: 10.0\n",
      "value: 2048.0 exponent: 11.0\n",
      "value: 4096.0 exponent: 12.0\n",
      "value: 8190.0 exponent: 13.0\n",
      "value: 16380.0 exponent: 14.0\n",
      "value: 32770.0 exponent: 15.0\n",
      "15.0\n",
      "[1.0, 2.0, 4.0, 8.0, 16.0, 32.0, 64.0, 128.0, 256.0, 512.0, 1024.0, 2048.0, 4096.0, 8190.0, 16380.0, 32770.0, inf]\n"
     ]
    },
    {
     "data": {
      "text/plain": [
       "Text(0, 0.5, '$2^x$')"
      ]
     },
     "execution_count": 60,
     "metadata": {},
     "output_type": "execute_result"
    },
    {
     "data": {
      "image/png": "[encoded data removed]",
      "text/plain": [
       "<Figure size 432x288 with 1 Axes>"
      ]
     },
     "metadata": {
      "needs_background": "light"
     },
     "output_type": "display_data"
    }
   ],
   "source": [
    "def find_overflow():\n",
    "    \"\"\"find number of bits before overflow\n",
    "    \n",
    "    Returns:\n",
    "        k -- value of exponent before overflow\n",
    "    \"\"\"\n",
    "    r = np.float16(1.0)\n",
    "    \n",
    "    # ~ is \"not\" and np.isinf checks for infinity/overflow\n",
    "    \n",
    "    rvalue_list = []\n",
    "    rvalue_list.append(r)\n",
    "    while ~np.isinf(r):\n",
    "        k = np.log2(r)\n",
    "        print(\"value:\",r,\"exponent:\",k)\n",
    "        r = np.float16(2*r)\n",
    "        rvalue_list.append(r)\n",
    "        \n",
    "    return k, rvalue_list\n",
    "\n",
    "k,rlist = find_overflow()\n",
    "print(k)\n",
    "print(rlist)\n",
    "\n",
    "# Make the fonts a little bigger in the plot\n",
    "plt.rc('font', size=13)\n",
    "plt.plot(rlist,'.')\n",
    "plt.xlabel('exponent')\n",
    "plt.ylabel('$2^x$')"
   ]
  },
  {
   "cell_type": "code",
   "execution_count": 47,
   "id": "fa22f764",
   "metadata": {},
   "outputs": [
    {
     "name": "stdout",
     "output_type": "stream",
     "text": [
      "Machine parameters for float16\n",
      "---------------------------------------------------------------\n",
      "precision =   3   resolution = 1.00040e-03\n",
      "machep =    -10   eps =        9.76562e-04\n",
      "negep =     -11   epsneg =     4.88281e-04\n",
      "minexp =    -14   tiny =       6.10352e-05\n",
      "maxexp =     16   max =        6.55040e+04\n",
      "nexp =        5   min =        -max\n",
      "---------------------------------------------------------------\n",
      "\n"
     ]
    }
   ],
   "source": [
    "print(np.finfo(np.float16()))"
   ]
  },
  {
   "cell_type": "markdown",
   "id": "61774b17",
   "metadata": {},
   "source": [
    "#### Making sense of finfo\n",
    "To understand the values in the call to `finfo`, refer to the documentation: https://numpy.org/doc/stable/reference/generated/numpy.finfo.html\n",
    "\n",
    "`maxexp`\n",
    "`int`\n",
    "The smallest positive power of the base (2) that causes overflow.\n",
    "\n",
    "Does this agree with what we found above?"
   ]
  },
  {
   "cell_type": "code",
   "execution_count": null,
   "id": "40b9fc80",
   "metadata": {},
   "outputs": [],
   "source": []
  }
 ],
 "metadata": {
  "kernelspec": {
   "display_name": "Python 3 (ipykernel)",
   "language": "python",
   "name": "python3"
  },
  "language_info": {
   "codemirror_mode": {
    "name": "ipython",
    "version": 3
   },
   "file_extension": ".py",
   "mimetype": "text/x-python",
   "name": "python",
   "nbconvert_exporter": "python",
   "pygments_lexer": "ipython3",
   "version": "3.9.12"
  }
 },
 "nbformat": 4,
 "nbformat_minor": 5
}
