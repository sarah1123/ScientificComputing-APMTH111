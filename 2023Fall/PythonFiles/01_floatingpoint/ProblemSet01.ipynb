{
 "cells": [
  {
   "cell_type": "markdown",
   "id": "7fbf9181",
   "metadata": {},
   "source": [
    "## Problem Set 01 Python Template"
   ]
  },
  {
   "cell_type": "code",
   "execution_count": null,
   "id": "a4e96208",
   "metadata": {},
   "outputs": [],
   "source": [
    "import numpy as np\n",
    "import matplotlib.pyplot as plt\n",
    "rng = np.random.default_rng(seed=5)"
   ]
  },
  {
   "cell_type": "markdown",
   "id": "4681205c",
   "metadata": {},
   "source": [
    "### Question 01: no Python component (submit via pdf)"
   ]
  },
  {
   "cell_type": "markdown",
   "id": "1327b38f",
   "metadata": {},
   "source": [
    "### Question 02ab: machine error, overflow, data type info"
   ]
  },
  {
   "cell_type": "code",
   "execution_count": null,
   "id": "9e84b5a5",
   "metadata": {},
   "outputs": [],
   "source": [
    "# Q 2a:\n",
    "def determine_number_bits():\n",
    "    \"\"\"Use a loop to identify machine epsilon and calculate the bits of the mantissa\n",
    "    \n",
    "    Returns:\n",
    "        mantissa_bits -- the number of bits in the mantissa of ___ data type\n",
    "    \"\"\"\n",
    "    # your code here\n",
    "    return mantissa_bits"
   ]
  },
  {
   "cell_type": "code",
   "execution_count": null,
   "id": "bc3bcfde",
   "metadata": {},
   "outputs": [],
   "source": [
    "# Q 2b:\n",
    "def determine_overflow():\n",
    "    \"\"\"Use a loop to find the largest exponent before overflow\n",
    "    \n",
    "    Returns:\n",
    "        bits_before_overflow -- largest number of bits before overflow for ___ type\n",
    "    \"\"\"\n",
    "    # your code here\n",
    "    return bits_before_overflow"
   ]
  },
  {
   "cell_type": "markdown",
   "id": "bb7a1c71",
   "metadata": {},
   "source": [
    "### Question 2c: submit via pdf\n",
    "\n",
    "### Question 3: submit via pdf\n",
    "\n",
    "### Question 4abc: submit via pdf\n",
    "\n",
    "### Question 4defg\n"
   ]
  },
  {
   "cell_type": "code",
   "execution_count": null,
   "id": "86a24ffd",
   "metadata": {},
   "outputs": [],
   "source": [
    "# Q 4d\n",
    "def truncate(x):\n",
    "    \"\"\"truncate x after the 3rd decimal place\n",
    "    \n",
    "    Args:\n",
    "        x -- number to truncate\n",
    "    \n",
    "    Returns:\n",
    "        trunc_x -- truncated value\n",
    "    \"\"\"\n",
    "    # your code here\n",
    "    return trunc_x\n",
    "\n",
    "def update_index(old_index, delta, baseline_sum):\n",
    "    \"\"\"update the index after a change in price\n",
    "    \n",
    "    Args:\n",
    "        old_index -- the initial value of the index\n",
    "        delta -- the change in stock price\n",
    "        baseline_sum -- initial sum of all stock prices\n",
    "    \n",
    "    Returns:\n",
    "        new_index -- new value of the index after change in price is incorporated\n",
    "    \"\"\"\n",
    "    \n",
    "    # your code here\n",
    "    return new_index"
   ]
  },
  {
   "cell_type": "code",
   "execution_count": null,
   "id": "24a4d907",
   "metadata": {},
   "outputs": [],
   "source": [
    "# Q 4e\n",
    "def simulate_index_over_time(trading_days, trades_per_day):\n",
    "    \"\"\"simulate the index over many days (trading_days days) of price changes\n",
    "    \n",
    "    Args:\n",
    "        trading_days -- number of days of trading to simulate\n",
    "        trades_per_day -- number of trades each day of the simulation\n",
    "    \n",
    "    Returns:\n",
    "        index_values -- array of values of the index (of length trading_days)\n",
    "    \"\"\"\n",
    "    index_values = np.zeros(trading_days*trades_per_day)\n",
    "    index_values[0] = 1000\n",
    "    \n",
    "    # your code here\n",
    "    return index_values"
   ]
  },
  {
   "cell_type": "code",
   "execution_count": null,
   "id": "a2a99459",
   "metadata": {},
   "outputs": [],
   "source": [
    "# Q 4f: Simulate the index and plot the evolution of the index \n",
    "#       over the first day and over 22 months.\n",
    "\n",
    "rng = np.random.default_rng(seed=5)\n",
    "# your code here"
   ]
  },
  {
   "cell_type": "code",
   "execution_count": null,
   "id": "ac3b94f8",
   "metadata": {},
   "outputs": [],
   "source": [
    "# Q 4g: Write a better update rule and revise update_index to use it.\n",
    "\n",
    "def better_update_rule(x):\n",
    "    \"\"\"shorten x to 3 decimal places and return shortened value\"\"\"\n",
    "    # your code here\n",
    "    return shortened_x\n",
    "\n",
    "def update_index(old_index, delta, baseline_sum):\n",
    "    \"\"\"update the index after a change in price\n",
    "    \n",
    "    Args:\n",
    "        old_index -- the initial value of the index\n",
    "        delta -- the change in stock price\n",
    "        baseline_sum -- initial sum of all stock prices\n",
    "    \n",
    "    Returns:\n",
    "        new_index -- new value of the index after change in price is incorporated\n",
    "    \"\"\"\n",
    "    \n",
    "    # your code here\n",
    "    return new_index\n",
    "\n",
    "\n",
    "# Simulate the index and plot the evolution of the index \n",
    "#       over the first day and over 22 months.\n",
    "rng = np.random.default_rng(seed=5)\n",
    "# your code here"
   ]
  },
  {
   "cell_type": "markdown",
   "id": "ff686009",
   "metadata": {},
   "source": [
    "### Question 4h: submit via pdf"
   ]
  },
  {
   "cell_type": "code",
   "execution_count": null,
   "id": "c2a186c1",
   "metadata": {},
   "outputs": [],
   "source": []
  }
 ],
 "metadata": {
  "kernelspec": {
   "display_name": "Python 3 (ipykernel)",
   "language": "python",
   "name": "python3"
  },
  "language_info": {
   "codemirror_mode": {
    "name": "ipython",
    "version": 3
   },
   "file_extension": ".py",
   "mimetype": "text/x-python",
   "name": "python",
   "nbconvert_exporter": "python",
   "pygments_lexer": "ipython3",
   "version": "3.9.12"
  }
 },
 "nbformat": 4,
 "nbformat_minor": 5
}
