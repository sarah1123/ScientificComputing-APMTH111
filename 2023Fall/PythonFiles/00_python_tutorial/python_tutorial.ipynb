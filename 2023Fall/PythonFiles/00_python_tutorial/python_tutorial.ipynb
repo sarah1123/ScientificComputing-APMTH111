{
 "cells": [
  {
   "cell_type": "markdown",
   "metadata": {},
   "source": [
    "[![Open In Colab](https://colab.research.google.com/assets/colab-badge.svg)](https://colab.research.google.com/github/sarah1123/SciComp-F22-AM111/blob/main/00_python_tutorial/python_tutorial.ipynb)"
   ]
  },
  {
   "cell_type": "markdown",
   "metadata": {},
   "source": [
    "# Python Tutorial\n",
    "\n",
    "This tutorial is based on Python tutorials from previous years Harvard AM205 ([2021](https://github.com/chr1shr/am205_g_activities/tree/master/python_tutorial), 2019 and [2017](https://people.math.wisc.edu/~chr/am205/fall17/tutorial.html)). We will cover some basic Python programming topics that will be useful for this course:\n",
    "- [Python syntax](#python-syntax)\n",
    "- [Lists, loops, and iterations](#lists-loops-and-iterations)\n",
    "    - [Indexing and slicing](#indexing-and-slicing)\n",
    "    - [Copy and deep copy](#copy-and-deep-copy)\n",
    "- [Formatted printing](#formatted-printing)\n",
    "- [Functions and conditionals](#functions-and-conditionals)\n",
    "- [Scientific computing with `NumPy`](#scientific-computing-with-numpy)\n",
    "    - [Commonly used attributes](#commonly-used-attributes)\n",
    "    - [Matrix operations](#matrix-operations)\n",
    "    - [Make your code efficient](#make-your-code-efficient)\n",
    "- [Plotting with `matplotlib`](#plotting-with-matplotlib)\n",
    "    - [Customize your plot](#customize-your-plot)\n",
    "    - [Animation](#animation)\n",
    "- [Debugging tips](#debugging-tips)\n",
    "\n",
    "\n",
    "For Python installation and (better) using practice, please check the `README.md` file. "
   ]
  },
  {
   "cell_type": "markdown",
   "metadata": {
    "vscode": {
     "languageId": "plaintext"
    }
   },
   "source": [
    "## Python syntax\n",
    "\n",
    "Let us start by reviewing the fundamentals of Python syntax. Below are examples of defining variables, doing basic mathematical operations, and printing values. Unlike other programming languages like C++, Python does not require you to declare the type/class of a variable when defining it. Although most of the time, the language is smart enough to handle the conversion between a float and an int, we could run into bugs, e.g., when an int changes to a float. Therefore, when defining variables, we need to be specific about whether we want a float or an int (by adding `.` or `.0`) behind the integer number."
   ]
  },
  {
   "cell_type": "code",
   "execution_count": null,
   "metadata": {},
   "outputs": [],
   "source": [
    "x = 3\n",
    "y = 6\n",
    "z = 7.0\n",
    "print(\"x is %s, y is %s, and z is %s\" % (str(type(x)), str(type(y)), str(type(z))))\n",
    "\n",
    "x *= y          # modify x in place\n",
    "print(\"x =\", x, \"is\", type(x))\n",
    "x += z          # adding a float to an int will change the int to a float\n",
    "print(\"x =\", x, \"is\", type(x))\n",
    "\n",
    "p = x / y       # regular floating point division\n",
    "q = x // y      # integer division (float and int)\n",
    "r = int(x) // y # integer division (int and int)\n",
    "s = x % y       # modulo operation\n",
    "print(p, q, r, s)\n",
    "\n",
    "a = x**2        # raising to a power\n",
    "b = x**-0.25\n",
    "print(a, b)"
   ]
  },
  {
   "cell_type": "markdown",
   "metadata": {},
   "source": [
    "## Lists, loops, and iterations\n",
    "\n",
    "Lists are a general ordered set whose entries can store values, strings, other lists, objects, etc., and are defined using brackets `[]`. Lists do not always behave the same way as `NumPy` arrays (which we will get to later) and do not follow the same conventions with algebraic operations."
   ]
  },
  {
   "cell_type": "code",
   "execution_count": null,
   "metadata": {},
   "outputs": [],
   "source": [
    "list1 = [1, 4, 9]\n",
    "list2 = [16, 25, 36, 49]\n",
    "sq = list1 + list2         # addition means concatenation\n",
    "sq2 = 2*sq                 # multiplication multiplies the list length, not the values stored!\n",
    "                           # note that this is very different from the multiplication of numpy arrays\n",
    "print(sq)\n",
    "print(sq2)\n",
    "\n",
    "sum_sq = sum(sq)           # compute the sum of the list (add all elements)\n",
    "print(\"Sum of squares: {}\".format(sum_sq))\n",
    "\n",
    "sort_sq = sorted(sq2)      # sort the list in asceding order\n",
    "print(\"Sorted double squares: {}\".format(sort_sq))\n",
    "\n",
    "list1.append(0)            # append a new element at the end of the list\n",
    "print(list1)\n",
    "print(list1.pop(1), list1) # remove an element based on its index"
   ]
  },
  {
   "cell_type": "markdown",
   "metadata": {},
   "source": [
    "A `for` loop can be used to iterate over values in a list. The syntax is `for <iterator> in <sequence>:` followed by an indented line below. There are a few different ways to iterate:"
   ]
  },
  {
   "cell_type": "code",
   "execution_count": null,
   "metadata": {},
   "outputs": [],
   "source": [
    "# range(N) for integer N generates a sequence 0, 1, ... N-1 for our iterator i to take on\n",
    "# More generally, you can specify range(start, stop)\n",
    "for i in range(len(sq)): \n",
    "    print(i, sq[i])\n",
    "\n",
    "# Another equivalent way is to use the enumerate syntax to achieve the same as above\n",
    "# i is the index that picks up each element in the list sq\n",
    "for i, square in enumerate(sq):\n",
    "    print(i, square)\n",
    "\n",
    "# Lists are sequences, so the iterator can take on the list values directly\n",
    "# But, it does not have a counter\n",
    "for square in sq:\n",
    "    print(\"The square is {}\".format(square))\n",
    "\n",
    "# Use enumerate to iterate over values while also incrementing a counter\n",
    "for i, square in enumerate(sq):\n",
    "    print(\"{} squared is {}\".format(i+1, square))"
   ]
  },
  {
   "cell_type": "markdown",
   "metadata": {},
   "source": [
    "Loops also provide a quick way to create lists as well using list comprehension:"
   ]
  },
  {
   "cell_type": "code",
   "execution_count": null,
   "metadata": {},
   "outputs": [],
   "source": [
    "sq = [i**2 for i in range(1,8)]\n",
    "print(sq)"
   ]
  },
  {
   "cell_type": "markdown",
   "metadata": {},
   "source": [
    "### Indexing and slicing\n",
    "\n",
    "Python indexing starts from 0 (this differs from Matlab!), and the last valid index for a list or array of length $N$ is `N-1`. In addition, Python supports negative indexing, so that the index `-1` returns the last entry of the list, `-2` the second to last, and so on.\n",
    "\n",
    "A slice of a list or array is specified by colon-separated values as `start:stop:skip`. Starting at zero, stopping at the end, and skipping by 1 is the default if any of these values are omitted, as shown in the examples below."
   ]
  },
  {
   "cell_type": "code",
   "execution_count": null,
   "metadata": {},
   "outputs": [],
   "source": [
    "first = sq2[0]         # zero indexes the first entry\n",
    "last = sq2[len(sq2)-1] # the last index is the length of the list minus 1 (N-1)\n",
    "last = sq2[-1]         # or, we can use negative indexing, which starts from the end\n",
    "\n",
    "f3 = sq2[:5]           # first three elements\n",
    "l4 = sq[-3:]           # last four elements\n",
    "sl = sq2[3:6]          # an interior slice, slicing is exclusive of the last index, here,\n",
    "                       # we include entries with indices 3,4,5, for a total of (6-3)=3\n",
    "\n",
    "a = sq2[:]             # all elements\n",
    "e2 = sq2[::2]          # every two elements\n",
    "e12 = sq2[1::2]        # every two elements but start with the first\n",
    "al = sq2[:-1]          # all but the last\n",
    "af = sq2[1:]           # all but the first\n",
    "\n",
    "r = sq2[::-1]          # reversed list with negative skipping\n",
    "\n",
    "print(\"First:\", first)\n",
    "print(\"Last:\", last)\n",
    "print(\"First three:\", f3)\n",
    "print(\"Last four:\", l4)\n",
    "print(\"Interior slice:\", sl)\n",
    "print(\"All:\", a)\n",
    "print(\"Every two:\", e2)\n",
    "print(\"Every two but from first:\", e12)\n",
    "print(\"All but last:\", al)\n",
    "print(\"All but first:\", af)\n",
    "print(\"Reversed:\", r)"
   ]
  },
  {
   "cell_type": "markdown",
   "metadata": {},
   "source": [
    "### Copy and deep copy\n",
    "\n",
    "Assigning a second variable to the same list does not create a new copy of the list - both variables will refer to the same object in memory (this is true for `NumPy` arrays as well). Be careful, as this could lead to unwanted changes to the list!\n",
    "\n",
    "If you are interested in learning the mechanism of copying (reference, address, object) in Python, you can check this [StackOverflow post](https://stackoverflow.com/questions/17246693/what-is-the-difference-between-shallow-copy-deepcopy-and-normal-assignment-oper)."
   ]
  },
  {
   "cell_type": "code",
   "execution_count": null,
   "metadata": {},
   "outputs": [],
   "source": [
    "a = [1, 2, 3] # first list\n",
    "b = a         # assign a to b\n",
    "print(\"b = a\\n a: {}; b: {}\".format(a, b))\n",
    "\n",
    "b[0] = 6      # modify b\n",
    "print(\"modify b - changes a\\n a: {}; b: {}\".format(a, b))   # both lists have changed\n",
    "\n",
    "c = 3*[0]     # create a new list of three zeros:\n",
    "c[:] = a[:]   # copy all values of a into c. Now, c does not reference the same object as a.\n",
    "print(\"c[:] = a[:]\\n a: {}; c: {}\".format(a, c))\n",
    "\n",
    "c[2] = 9      # modify c\n",
    "print(\"modify c - a unchanged\\n a: {}; c: {}\".format(a, c)) # a has not changed\n",
    "\n",
    "# One way to ensure an object and any contained objects are copied:\n",
    "import copy\n",
    "d = copy.deepcopy(a)\n",
    "print(\"modify d - a unchanged\\n a: {}; d: {}\".format(a, d*2)) # a has not changed"
   ]
  },
  {
   "cell_type": "markdown",
   "metadata": {},
   "source": [
    "## Formatted printing\n",
    "\n",
    "The braces `{}` in our print statements are placeholders replaced by values of the variables listed after `.format`. We can specify explicit formatting in the braces as follows:"
   ]
  },
  {
   "cell_type": "code",
   "execution_count": null,
   "metadata": {},
   "outputs": [],
   "source": [
    "# Format an integer:\n",
    "print(\"{:d} is an approximation for pi\".format(3))\n",
    "\n",
    "# Format a float (default precision):\n",
    "print(\"{:f} is an approximation for pi\".format(22/7))\n",
    "\n",
    "# Specify a minimum of 3 total digits of precision,\n",
    "# with 2 of them after the decimal:\n",
    "print(\"{:3.2f} is an approximation for pi\".format(22/7))\n",
    "\n",
    "# Use scientific notation:\n",
    "sun_mass = 1.989e30\n",
    "print(\"The mass of the sun is approximately {:2.1e} kg\".format(sun_mass))"
   ]
  },
  {
   "cell_type": "markdown",
   "metadata": {},
   "source": [
    "You can also format using `'%s %d %.2f' % ('string', int, float)` in print statements. This [page](https://pyformat.info/) compares the two string formatters. (But both are valid options in formatting strings!) "
   ]
  },
  {
   "cell_type": "markdown",
   "metadata": {},
   "source": [
    "## Functions and conditionals\n",
    "\n",
    "Functions are defined using the syntax `def`, and one or more values can be returned via `return`. The function name and arguments are followed by a colon, and the function definition should be indented. Always remember to have a return to your function (unless you are only using functions to refactor the codebase and do not use functions to create variables)!\n",
    "\n",
    "Conditional statements `if`, `elif`, and `else` are also followed by a colon, and the line below should be indented. Indentation matters!"
   ]
  },
  {
   "cell_type": "code",
   "execution_count": null,
   "metadata": {},
   "outputs": [],
   "source": [
    "# Return whether a number is positive, negative, or zero\n",
    "def sign(a):\n",
    "    if a > 0:\n",
    "        return 'positive'\n",
    "    elif a < 0:\n",
    "        return 'negative'\n",
    "    else:\n",
    "        return 'zero'\n",
    "\n",
    "x = 5\n",
    "print(\"{} is {}\".format(x, sign(x)))\n",
    "y = -2.7\n",
    "print(\"{} is {}\".format(y, sign(y)))\n",
    "z = 0\n",
    "print(\"{} is {}\".format(z, sign(z)))"
   ]
  },
  {
   "cell_type": "markdown",
   "metadata": {},
   "source": [
    "## Scientific computing with `NumPy`\n",
    "\n",
    "Matrices and linear algebra make up a significant part of scientific computing. `NumPy` is a fundamental Python library for such computations. We will use it to work efficiently with arrays and matrices, generate random numbers, and access common trigonometric functions and special constants. Let's look at a few simple examples."
   ]
  },
  {
   "cell_type": "code",
   "execution_count": null,
   "metadata": {},
   "outputs": [],
   "source": [
    "import numpy as np # import numpy library and give it an alias (short name)\n",
    "\n",
    "# Create a 1-D array of zeros of length n\n",
    "# By default, the values are considered floats\n",
    "n = 5\n",
    "x = np.zeros(n)\n",
    "\n",
    "# Create a 1-D array of ones, of integer type\n",
    "y = np.ones(n, dtype=np.int32)\n",
    "\n",
    "# Create n evenly-spaced values on [a,b], inclusive of endpoints by default\n",
    "a = 1; b = 5\n",
    "s = np.linspace(a, b, n)\n",
    "\n",
    "# We can also do the same with creating a range of values\n",
    "dx = (b - a) / (n - 1)   # compute grid spacing between [a,b] of n points\n",
    "sa = np.arange(a, b + dx, dx)\n",
    "\n",
    "# We can also create evenly-spaced values on a logarithmic scale:\n",
    "g = np.logspace(a, b, n) # n logarithmically spaced values from 10^a to 10^b\n",
    "\n",
    "# Create a 2-D diagonal matrix, with s on the diagonal:\n",
    "d = np.diag(s)\n",
    "\n",
    "# Seed the random number generator, for reproducible results,\n",
    "# then create an array of random numbers\n",
    "np.random.seed(12) \n",
    "r = np.random.random(n)  # generate n random numbers on the interval [0,1)\n",
    "\n",
    "# Use trig functions and built in pi.\n",
    "t = np.cos(4 * np.pi * r)\n",
    "\n",
    "print(\"Zeros:\", x)\n",
    "print(\"Ones:\", y)\n",
    "print(\"Evenly spaced:\", s)\n",
    "print(\"Evenly spaced with arange:\", sa)\n",
    "print(\"Diagonal:\\n\", d)\n",
    "print(\"Random:\", r)\n",
    "print(\"Trig:\", t)"
   ]
  },
  {
   "cell_type": "markdown",
   "metadata": {},
   "source": [
    "### Commonly used attributes\n",
    "\n",
    "The following are commonly used attributes of `NumPy` arrays. Notice the distinction between the shapes of a 1-dimensional array, and a 2-dimensional array with a single column. The difference is important when trying to perform certain operations on matrices that require the dimensions to match."
   ]
  },
  {
   "cell_type": "code",
   "execution_count": null,
   "metadata": {},
   "outputs": [],
   "source": [
    "# Access the number of dimensions with .ndim:\n",
    "x = np.zeros(3)\n",
    "y = np.zeros((3,1))\n",
    "z = np.zeros((3,3))\n",
    "print(\"x is {:d} dimensional; y is {:d} dimensional; z is {:d} dimensional\".format(x.ndim, y.ndim, z.ndim))\n",
    "\n",
    "# Access the size of each dimension with .shape:\n",
    "print(\"x has shape {}; y has shape {}; z has shape {}\".format(x.shape, y.shape, z.shape))\n",
    "\n",
    "# We can reshape x to be 2-dimensional. Here, we specify that we want one column,\n",
    "# and indicate -1 for the number of rows, which is interpreted as whatever the\n",
    "# number of rows needs to be in order for x to have a single column.\n",
    "x = x.reshape((-1,1))\n",
    "print(\"x now has shape {}\".format(x.shape))"
   ]
  },
  {
   "cell_type": "markdown",
   "metadata": {},
   "source": [
    "### Matrix operations\n",
    "\n",
    "The standard addition/subtraction, multiplication/division operators act element-wise on matrices. Traditional matrix-matrix or matrix-vector multiplication can be performed via `numpy.dot`:"
   ]
  },
  {
   "cell_type": "code",
   "execution_count": null,
   "metadata": {},
   "outputs": [],
   "source": [
    "x = 3 * np.ones((2,2))\n",
    "y = 6 * np.ones((2,2))\n",
    "print(\"x =\\n\",x)\n",
    "print(\"y =\\n\",y)\n",
    "print(\"x + y =\\n\",x + y)\n",
    "print(\"x * y =\\n\",x * y)\n",
    "print(\"np.dot(x, y) =\\n\", np.dot(x, y))"
   ]
  },
  {
   "cell_type": "markdown",
   "metadata": {},
   "source": [
    "The following are a few more useful operations to use when working with `NumPy` arrays:"
   ]
  },
  {
   "cell_type": "code",
   "execution_count": null,
   "metadata": {},
   "outputs": [],
   "source": [
    "# Initialize a 3x3 matrix by its values\n",
    "A = np.array([[-3, 0, 2],\n",
    "              [1, -4, 0],\n",
    "              [0, 6, -2]])\n",
    "\n",
    "# Add A and its transpose, obtaining a symmetric matrix\n",
    "S = A + A.T\n",
    "\n",
    "# Compute the eigenvalues and eigenvectors of a symmetric matrix\n",
    "evals, evecs = np.linalg.eigh(S)\n",
    "\n",
    "# Find the largest and smallest eigenvalue:\n",
    "emin, emax = np.min(evals), np.max(evals) # this is a multiple-assignment statement\n",
    "\n",
    "# Dot two eigenvectors (columns)\n",
    "d = np.dot(evecs[:,0], evecs[:,1])        # notice syntax of indexing in each dimension\n",
    "# Dot is sematically equivalent to matmul and @ operator\n",
    "m = np.matmul(evecs[:,0], evecs[:,1])\n",
    "at = evecs[:,0] @ evecs[:,1]              # @ is a new feature, for compatibility issues\n",
    "                                          # with older versions, may want to avoid using\n",
    "\n",
    "# We can also do SVD\n",
    "u, s, vt = np.linalg.svd(S)\n",
    "S_svd = np.dot(np.dot(u, np.diag(s)), vt) # S=USV^T, should be numerically close to S\n",
    "\n",
    "print(\"A:\\n\", A)\n",
    "print(\"S:\\n\", S)\n",
    "print(\"eigenvalues:\", evals)\n",
    "print(\"Min eigenvalue: {:.4f}\".format(emin))\n",
    "print(\"Max eigenvalue: {:.4f}\".format(emax))\n",
    "print(\"eigenvectors:\\n\", evecs)\n",
    "print(\"dot:\", d)\n",
    "print(\"matmul:\", m)\n",
    "print(\"at:\", at)\n",
    "print(\"SVD approximated S:\\n\", S_svd)"
   ]
  },
  {
   "cell_type": "markdown",
   "metadata": {},
   "source": [
    "### Make your code efficient\n",
    "\n",
    "When using Python to do scientific computing, converting your variables to `NumPy` arrays is always more desirable. Since the' NumPy' library is very optimized, calling library functions will make your code much faster. Specifically, you would want to avoid using `for` loops to index through `NumPy` arrays to do operations. Here we look at the timing of computing the sum of the difference between each element using nested loops and vectorized `NumPy` arrays:"
   ]
  },
  {
   "cell_type": "code",
   "execution_count": null,
   "metadata": {},
   "outputs": [],
   "source": [
    "# Define function to compute dot product with nested for-loops\n",
    "def sum_diff_for_loop(a):\n",
    "    diff = []\n",
    "    for i in range(len(a)-1):\n",
    "        i_diff = a[i+1] - a[i]\n",
    "        diff.append(i_diff)\n",
    "    return sum(diff)\n",
    "\n",
    "# Define function to compute dot product with numpy.dot\n",
    "def sum_diff_numpy(a):\n",
    "    return np.sum(np.diff(a))"
   ]
  },
  {
   "cell_type": "code",
   "execution_count": null,
   "metadata": {},
   "outputs": [],
   "source": [
    "a = range(1, 100000+1)\n",
    "\n",
    "# %time and %timeit are two other magic commands to measure time of small code snippets\n",
    "# Note that each machine can have different timing results, e.g.\n",
    "\n",
    "%time sum_diff_for_loop(a)\n",
    "# CPU times: user 18.1 ms, sys: 721 µs, total: 18.8 ms\n",
    "# Wall time: 18.4 ms\n",
    "\n",
    "%time sum_diff_numpy(a)\n",
    "# CPU times: user 4.55 ms, sys: 703 µs, total: 5.25 ms\n",
    "# Wall time: 4.91 ms"
   ]
  },
  {
   "cell_type": "markdown",
   "metadata": {},
   "source": [
    "This [StackOverflow post](https://stackoverflow.com/questions/41325427/numpy-ufuncs-speed-vs-for-loop-speed) also has an interesting discussion on the speed of using `for` loops v.s. `NumPy` built-in functions."
   ]
  },
  {
   "cell_type": "markdown",
   "metadata": {},
   "source": [
    "## Plotting with `matplotlib`\n",
    "\n",
    "The `matplotlib` library provides tools for plotting data, and we import the module `pyplot` under the alias `plt` for short. Specific to notebooks, in order to display our plots inline without typing `plt.show()` all the time, we can add a \"magic\" command `%matplotlib inline`."
   ]
  },
  {
   "cell_type": "code",
   "execution_count": null,
   "metadata": {},
   "outputs": [],
   "source": [
    "%matplotlib inline\n",
    "import matplotlib.pyplot as plt"
   ]
  },
  {
   "cell_type": "markdown",
   "metadata": {},
   "source": [
    "Let's generate and plot some example curves."
   ]
  },
  {
   "cell_type": "code",
   "execution_count": null,
   "metadata": {},
   "outputs": [],
   "source": [
    "theta = np.linspace(0, 8*np.pi, 200) # 200 evenly-spaced values on [0, 8*pi]\n",
    "cos = np.cos(theta)\n",
    "sin = np.sin(theta)\n",
    "\n",
    "# Create a figure with a single subplot (ax is the axis object)\n",
    "fig, ax = plt.subplots(1,1, figsize=(7,4))\n",
    "ax.plot(theta, cos, color='b', label='$\\cos(\\\\theta)$') # can use Latex-style math mode for labels (though there are some differences)\n",
    "ax.plot(theta, sin, color='r', label='$\\sin(\\\\theta)$', linestyle='dashed') # also changed the linestyle\n",
    "\n",
    "ax.set_title(\"Plot trigonometric functions\", size=18, fontweight=\"bold\") # change title fontweight\n",
    "ax.set_xlabel(\"$\\\\theta$\", size=16)\n",
    "ax.set_ylabel(\"$f(\\\\theta)$\", size=16)\n",
    "ax.tick_params(labelsize=14) # increase tick label size\n",
    "# ax.axis('equal') # set the scale of both axes the same\n",
    "ax.set_ylim(-1.5, 1.5) # set y-limits (not compatible with axis('equal'))\n",
    "\n",
    "# Change axis ticks to multiples of pi\n",
    "xticks_loc = np.arange(0, 8*np.pi, step=np.pi)\n",
    "xticks_text = [0, '$\\pi$', '$2\\pi$', '$3\\pi$', \\\n",
    "               '$4\\pi$', '$5\\pi$', '$6\\pi$', '$7\\pi$']\n",
    "ax.set_xticks(xticks_loc, xticks_text)\n",
    "\n",
    "ax.legend(loc='lower right', fontsize=14)\n",
    "plt.show() # display the plot"
   ]
  },
  {
   "cell_type": "markdown",
   "metadata": {},
   "source": [
    "We can also change the scale of (one or more) axes to be logarithmic, which is often useful in numerical analysis."
   ]
  },
  {
   "cell_type": "code",
   "execution_count": null,
   "metadata": {},
   "outputs": [],
   "source": [
    "h = np.logspace(-4, 0, 20) # 20 logarithmically spaced values from 10^-4 to 10^0\n",
    "y = 1e-10 * (h**-1)\n",
    "\n",
    "fig, ax = plt.subplots(1,1, figsize=(7,4))\n",
    "ax.scatter(h, y, marker='o', color='b', zorder=3) # higher z order places scatter on top\n",
    "\n",
    "# Set logarithmic scales on each axis\n",
    "ax.set_xscale('log')\n",
    "ax.set_yscale('log')\n",
    "ax.grid(which='both') # use to turn on both major and minor grid lines\n",
    "\n",
    "# Note: the minor grid may not display, if the major ticks jump more than one decade/\n",
    "# the grid would become too crowded\n",
    "\n",
    "ax.tick_params(labelsize=14)\n",
    "plt.show()"
   ]
  },
  {
   "cell_type": "markdown",
   "metadata": {},
   "source": [
    "We can also visualize 2-D arrays as images."
   ]
  },
  {
   "cell_type": "code",
   "execution_count": null,
   "metadata": {},
   "outputs": [],
   "source": [
    "x = np.linspace(-1, 1, 100)\n",
    "y = np.linspace(-1, 1, 100)\n",
    "X, Y = np.meshgrid(x, y) # a meshgrid tiles the 1-D x array into a 2-D array of identical rows,\n",
    "                         # and tiles the 1-D y array into a 2-D array of identical columns,\n",
    "                         # producing 2 matrices which store the x and y coordinates, respectively,\n",
    "                         # for the entire grid\n",
    "\n",
    "# Evaluate two different functions on the 2D grid\n",
    "# Each of the operations below act element-wise on the matrix entries of X and Y\n",
    "Z = np.sqrt(X**2 + Y**2)\n",
    "W = (1 - (X**2 + Y**3))*np.exp(-(X**2 + Y**2))\n",
    "\n",
    "# Create two plots side by side on the same figure\n",
    "fig, (ax1, ax2) = plt.subplots(1,2, figsize=(12,5))\n",
    "im1 = ax1.imshow(Z, cmap=plt.cm.viridis) # specify a named colormap (see https://matplotlib.org/3.1.1/gallery/color/colormap_reference.html)\n",
    "ax1.axis('off')                          # turn off axis markings\n",
    "\n",
    "# Add a colorbar, specifying to which object colors correspond,\n",
    "# and next to which axes it should be placed\n",
    "cbar1 = fig.colorbar(im1, ax=ax1, fraction=0.046, pad=0.04)\n",
    "cbar1.set_label('$Z(x,y)$')\n",
    "\n",
    "# The default origin for imshow is in the *upper* left, as matrix column index increases going down,\n",
    "# but we can set it to lower left to reflect that our y values increase going up\n",
    "im2 = ax2.imshow(W, cmap=plt.cm.plasma, origin='lower')\n",
    "ax2.axis('off')\n",
    "cbar2 = fig.colorbar(im2, ax=ax2, fraction=0.046, pad=0.04)\n",
    "cbar2.set_label('$W(x,y)$')\n",
    "\n",
    "plt.show()"
   ]
  },
  {
   "cell_type": "markdown",
   "metadata": {},
   "source": [
    "We can also visualize matrices as images, which can come in handy in debugging (or visualization)."
   ]
  },
  {
   "cell_type": "code",
   "execution_count": null,
   "metadata": {},
   "outputs": [],
   "source": [
    "# Initialize a matrix\n",
    "cd_shape = 20\n",
    "mat = -2 * np.identity(cd_shape) + np.diag([5] * (cd_shape-1), k=1) + np.diag([2] * (cd_shape-3), k=-3)\n",
    "\n",
    "# Create two plots side by side on the same figure\n",
    "fig, (ax1, ax2) = plt.subplots(1,2, figsize=(12,5))\n",
    "im1 = ax1.spy(mat) # quick way to preview a matrix through its sparsity pattern\n",
    "im2 = ax2.imshow(mat, cmap=plt.cm.bwr, vmin=-5, vmax=5)\n",
    "\n",
    "# Set colorbar ticks\n",
    "cbar = fig.colorbar(im2, ticks=[-2, 3, 5], fraction=0.046, pad=0.04)\n",
    "cbar.ax.set_yticklabels(['main', 'lower by 3', 'upper by 1'])\n",
    "\n",
    "# Set main title for both subplots\n",
    "fig.suptitle('Visualize matrix', fontsize=20, font='Times New Roman')\n",
    "\n",
    "plt.show()"
   ]
  },
  {
   "cell_type": "markdown",
   "metadata": {},
   "source": [
    "### Customize your plot\n",
    "\n",
    "You can customize your `matplotlib` plot by changing the line style/width/color, marker size/width/symbol, and colormaps (or even make your own colormap). Below are some useful documentations and examples:\n",
    "- [List of named colors](https://matplotlib.org/stable/gallery/color/named_colors.html)\n",
    "- [Colormaps](https://matplotlib.org/stable/tutorials/colors/colormaps.html)\n",
    "- [Marker symbols](https://matplotlib.org/stable/api/markers_api.html)\n",
    "- [Customize your plot with `plt.rcParams` and make colormaps a gradient](https://github.com/zhimingkuang/Harvard-AM-115/blob/main/01_population_single_1/logistic_continuous.ipynb)\n",
    "\n",
    "You can also create your own colormap using Hex color codes:"
   ]
  },
  {
   "cell_type": "code",
   "execution_count": null,
   "metadata": {},
   "outputs": [],
   "source": [
    "import matplotlib\n",
    "import matplotlib.cm as cm\n",
    "\n",
    "# Denote colorbar limits\n",
    "cmin, cmax = -1.0, 1.0\n",
    "\n",
    "# Define pastel rainbow color scheme\n",
    "# https://www.schemecolor.com/pastel-rainbow.php\n",
    "dc = cmax - cmin\n",
    "cvals = [cmin, cmin+dc/6., cmin+dc/3., cmin+dc/2., \\\n",
    "         cmin+dc/2.+dc/6., cmin+dc/2.+dc/3., cmax]\n",
    "colors = ['#FF6663', '#FEB144', '#FDFD97', '#FFFFFF', '#9EE09E', '#9EC1CF', '#CC99C9']\n",
    "norm = plt.Normalize(min(cvals), max(cvals))\n",
    "tuples = list(zip(map(norm, cvals), colors))\n",
    "pastel_rainbow = matplotlib.colors.LinearSegmentedColormap.from_list(\"\", tuples)\n",
    "\n",
    "# Replot Z with the custom colormap\n",
    "fig, ax = plt.subplots(1,1, figsize=(7,4))\n",
    "im = ax.imshow(Z, cmap=pastel_rainbow)\n",
    "plt.show()"
   ]
  },
  {
   "cell_type": "markdown",
   "metadata": {},
   "source": [
    "### Animation\n",
    "\n",
    "You can also make animations with `matplotlib`. See this [Jupyter notebook for how to create an animation](https://github.com/zhimingkuang/Harvard-AM-115/blob/main/04_population_single_3/animate_solution.ipynb)."
   ]
  },
  {
   "cell_type": "markdown",
   "metadata": {},
   "source": [
    "## Debugging tips\n",
    "\n",
    "- Read the problem statement carefully, and write down relevant equations or pseudocode first\n",
    "- Modulize your code if the script becomes too long\n",
    "- Comment your code\n",
    "- Use breakpoints (in debug mode) or print statements to identify which line of code has an error\n",
    "- Check you have the correct indexing\n",
    "- Check you have the correct data structure/type\n",
    "- Check your matrices have the right shape\n",
    "- Check your functions have a valid return\n",
    "- Read the documentation to ensure you are using the function syntax correctly\n",
    "- Search the error messages online, and often you will find solutions on StackOverflow\n",
    "- Explain your code to a TF/classmate/friend (or a [rubber duck](https://en.wikipedia.org/wiki/Rubber_duck_debugging)!)"
   ]
  }
 ],
 "metadata": {
  "kernelspec": {
   "display_name": "Python 3.9.10 64-bit",
   "language": "python",
   "name": "python3"
  },
  "language_info": {
   "codemirror_mode": {
    "name": "ipython",
    "version": 3
   },
   "file_extension": ".py",
   "mimetype": "text/x-python",
   "name": "python",
   "nbconvert_exporter": "python",
   "pygments_lexer": "ipython3",
   "version": "3.9.10"
  },
  "vscode": {
   "interpreter": {
    "hash": "b0fa6594d8f4cbf19f97940f81e996739fb7646882a419484c72d19e05852a7e"
   }
  }
 },
 "nbformat": 4,
 "nbformat_minor": 2
}
