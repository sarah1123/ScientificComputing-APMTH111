{
 "cells": [
  {
   "cell_type": "markdown",
   "id": "389aadb7-1334-4775-b429-7541bb2f8509",
   "metadata": {},
   "source": [
    "## Problem Set 04\n",
    "\n",
    "### 1ab: submit via pdf\n",
    "\n",
    "### 2: submit via pdf\n",
    "\n",
    "### 3abcd: submit via pdf\n",
    "\n",
    "### 4a: submit via pdf\n",
    "\n",
    "### 4bcdef: work in Python"
   ]
  },
  {
   "cell_type": "code",
   "execution_count": null,
   "id": "b0b0c027",
   "metadata": {
    "vscode": {
     "languageId": "plaintext"
    }
   },
   "outputs": [],
   "source": [
    "# 4b: \n",
    "def f1(x):\n",
    "\n",
    "def df1(x):"
   ]
  },
  {
   "cell_type": "code",
   "execution_count": null,
   "id": "3850750f",
   "metadata": {
    "vscode": {
     "languageId": "plaintext"
    }
   },
   "outputs": [],
   "source": [
    "# 4c\n",
    "def newton(x0,f,df,tol=1e-15):"
   ]
  },
  {
   "cell_type": "code",
   "execution_count": null,
   "id": "cfef0656",
   "metadata": {
    "vscode": {
     "languageId": "plaintext"
    }
   },
   "outputs": [],
   "source": [
    "# 4d: run Newton\n"
   ]
  },
  {
   "cell_type": "code",
   "execution_count": null,
   "id": "8a467ba6",
   "metadata": {
    "vscode": {
     "languageId": "plaintext"
    }
   },
   "outputs": [],
   "source": [
    "# 4e:\n",
    "def df_approx(x0,x1,f):"
   ]
  },
  {
   "cell_type": "code",
   "execution_count": null,
   "id": "6bb4c7ea",
   "metadata": {
    "vscode": {
     "languageId": "plaintext"
    }
   },
   "outputs": [],
   "source": [
    "# 4f:\n",
    "def secant(x0,x1,f):\n"
   ]
  },
  {
   "cell_type": "markdown",
   "id": "6731b343",
   "metadata": {},
   "source": [
    "### 4g: \n",
    "- submit via pdf\n",
    "- include any python work in the cell below"
   ]
  },
  {
   "cell_type": "code",
   "execution_count": null,
   "id": "9cc018a4",
   "metadata": {
    "vscode": {
     "languageId": "plaintext"
    }
   },
   "outputs": [],
   "source": [
    "# 4g: compare the results"
   ]
  },
  {
   "cell_type": "markdown",
   "id": "ee96cc36",
   "metadata": {},
   "source": [
    "### 4h"
   ]
  },
  {
   "cell_type": "code",
   "execution_count": null,
   "id": "6ed5a9fe",
   "metadata": {
    "vscode": {
     "languageId": "plaintext"
    }
   },
   "outputs": [],
   "source": [
    "# 4h: estimate order of convergence"
   ]
  },
  {
   "cell_type": "markdown",
   "id": "5fc39bb5",
   "metadata": {},
   "source": [
    "### 4i: submit via pdf\n",
    "\n",
    "### 5a: submit via pdf\n",
    "\n",
    "### 5bc"
   ]
  },
  {
   "cell_type": "code",
   "execution_count": null,
   "id": "6c4c09e9",
   "metadata": {
    "vscode": {
     "languageId": "plaintext"
    }
   },
   "outputs": [],
   "source": [
    "# 5b\n",
    "def fbridge(x):\n",
    "\n",
    "def Dfbridge(x):\n",
    "\n",
    "def newton_multi(x0,f,Df,tol=1e-5):\n",
    "\n"
   ]
  },
  {
   "cell_type": "code",
   "execution_count": null,
   "id": "1857ac8a",
   "metadata": {
    "vscode": {
     "languageId": "plaintext"
    }
   },
   "outputs": [],
   "source": [
    "# 5c: solve\n"
   ]
  },
  {
   "cell_type": "markdown",
   "id": "9ecf6fcf",
   "metadata": {},
   "source": [
    "### 5d: submit via pdf\n",
    "\n",
    "### 5ef\n"
   ]
  },
  {
   "cell_type": "code",
   "execution_count": null,
   "id": "2a8497b3",
   "metadata": {
    "vscode": {
     "languageId": "plaintext"
    }
   },
   "outputs": [],
   "source": [
    "# 5e: solve"
   ]
  },
  {
   "cell_type": "code",
   "execution_count": null,
   "id": "efce621c",
   "metadata": {
    "vscode": {
     "languageId": "plaintext"
    }
   },
   "outputs": [],
   "source": [
    "# 5f: check"
   ]
  },
  {
   "cell_type": "markdown",
   "id": "c237595b",
   "metadata": {},
   "source": [
    "### 6abc"
   ]
  },
  {
   "cell_type": "code",
   "execution_count": null,
   "id": "b8cdd066",
   "metadata": {
    "vscode": {
     "languageId": "plaintext"
    }
   },
   "outputs": [],
   "source": [
    "# 6a"
   ]
  },
  {
   "cell_type": "code",
   "execution_count": null,
   "id": "e3763901",
   "metadata": {
    "vscode": {
     "languageId": "plaintext"
    }
   },
   "outputs": [],
   "source": [
    "# 6b"
   ]
  },
  {
   "cell_type": "code",
   "execution_count": null,
   "id": "2cdc4ce2",
   "metadata": {
    "vscode": {
     "languageId": "plaintext"
    }
   },
   "outputs": [],
   "source": [
    "# 6c\n",
    "def bisection(a,b,tol=0.5e-6):\n"
   ]
  },
  {
   "cell_type": "markdown",
   "id": "077e392d",
   "metadata": {},
   "source": []
  }
 ],
 "metadata": {
  "kernelspec": {
   "display_name": "Python 3 (ipykernel)",
   "language": "python",
   "name": "python3"
  },
  "language_info": {
   "codemirror_mode": {
    "name": "ipython",
    "version": 3
   },
   "file_extension": ".py",
   "mimetype": "text/x-python",
   "name": "python",
   "nbconvert_exporter": "python",
   "pygments_lexer": "ipython3",
   "version": "3.11.4"
  }
 },
 "nbformat": 4,
 "nbformat_minor": 5
}
