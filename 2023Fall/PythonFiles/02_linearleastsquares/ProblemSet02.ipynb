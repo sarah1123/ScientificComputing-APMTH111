{
 "cells": [
  {
   "cell_type": "code",
   "execution_count": null,
   "id": "37418ade-7114-479f-8741-7ba43eeb05b2",
   "metadata": {},
   "outputs": [],
   "source": [
    "import numpy as np\n",
    "from scipy import linalg\n",
    "import matplotlib.pyplot as plt"
   ]
  },
  {
   "cell_type": "markdown",
   "id": "08a351c2-3eec-4d03-8b2f-a9be4159d86d",
   "metadata": {},
   "source": [
    "## Questions 1, 2, 3\n",
    "- submit via pdf\n",
    "- put any Python work related to these questions in the cell below"
   ]
  },
  {
   "cell_type": "code",
   "execution_count": null,
   "id": "216682b9-034a-4a0f-bf0c-56bbcab9903b",
   "metadata": {},
   "outputs": [],
   "source": [
    "# Q1a: calculations\n",
    "\n",
    "# Q2a: calculations\n",
    "\n",
    "# Q3a: calculations"
   ]
  },
  {
   "cell_type": "markdown",
   "id": "8030c1ab",
   "metadata": {},
   "source": [
    "## Question 4abc"
   ]
  },
  {
   "cell_type": "code",
   "execution_count": null,
   "id": "487eeb88",
   "metadata": {},
   "outputs": [],
   "source": [
    "year = np.arange(1952,2009,4)\n",
    "income_change = [1.49, 3.03, 0.57, 5.74, 3.51, 3.73, 2.98, \\\n",
    "                 -0.18, 6.23, 3.38, 2.15, 2.10, 3.93, 2.47, -0.41]\n",
    "incumbent_vote = [44.6, 57.8, 49.9, 61.3, 49.6, 61.8, 49.0, \\\n",
    "                  44.7, 59.2, 53.9, 46.5, 54.7, 50.3, 51.2, 45.7]"
   ]
  },
  {
   "cell_type": "code",
   "execution_count": null,
   "id": "76af7d57",
   "metadata": {},
   "outputs": [],
   "source": [
    "# 4a: plots"
   ]
  },
  {
   "cell_type": "code",
   "execution_count": null,
   "id": "b65018c1",
   "metadata": {},
   "outputs": [],
   "source": [
    "#4b use normal equations to solve least squares\n",
    "def fit_line_via_normal_equations(xv, yv):\n",
    "    ### your code here\n",
    "    return least_squares_solution_vector"
   ]
  },
  {
   "cell_type": "code",
   "execution_count": null,
   "id": "68b38005",
   "metadata": {},
   "outputs": [],
   "source": [
    "#4c use built in to solve least squares\n",
    "def use_built_in(xv,yv):\n",
    "    return least_squares_solution_vector"
   ]
  },
  {
   "cell_type": "markdown",
   "id": "94f75d04",
   "metadata": {},
   "source": [
    "## Question 4de\n",
    "\n",
    "- Submit via pdf\n",
    "- put any Python work related to these in the cell below"
   ]
  },
  {
   "cell_type": "code",
   "execution_count": null,
   "id": "9fd4bdb3",
   "metadata": {},
   "outputs": [],
   "source": [
    "# Q4d\n",
    "\n",
    "# Q4e"
   ]
  },
  {
   "cell_type": "markdown",
   "id": "c797e2ab",
   "metadata": {},
   "source": [
    "## Question 5abc"
   ]
  },
  {
   "cell_type": "code",
   "execution_count": null,
   "id": "76dfab7c",
   "metadata": {},
   "outputs": [],
   "source": [
    "# Q5a\n",
    "def model(basis_functions,c,t_list):\n",
    "    ### your code\n",
    "    return y_values\n",
    "\n",
    "# run your function and plot\n",
    "### your code"
   ]
  },
  {
   "cell_type": "code",
   "execution_count": null,
   "id": "7c954aaf",
   "metadata": {},
   "outputs": [],
   "source": [
    "# Q5b\n",
    "def add_noise(y,noise_size):\n",
    "    ### your code\n",
    "    return \n",
    "\n",
    "# run and plot for three noise sizes\n",
    "### your code"
   ]
  },
  {
   "cell_type": "code",
   "execution_count": null,
   "id": "f1fbc7bf",
   "metadata": {},
   "outputs": [],
   "source": [
    "# Q5c outlier\n",
    "### your code"
   ]
  },
  {
   "cell_type": "markdown",
   "id": "a2807d2a",
   "metadata": {},
   "source": [
    "## Question 5d: submit via pdf"
   ]
  },
  {
   "cell_type": "markdown",
   "id": "acfb6992",
   "metadata": {},
   "source": [
    "## Question 6a: submit via pdf"
   ]
  },
  {
   "cell_type": "markdown",
   "id": "01b23fb6",
   "metadata": {},
   "source": [
    "## Question 6b"
   ]
  },
  {
   "cell_type": "code",
   "execution_count": null,
   "id": "5f4fe9c7",
   "metadata": {},
   "outputs": [],
   "source": [
    "# 6b\n",
    "def rank_teams():\n",
    "    ### your code here\n",
    "    return ranking"
   ]
  },
  {
   "cell_type": "markdown",
   "id": "5b39abfe",
   "metadata": {},
   "source": [
    "## Question 7: submit via pdf\n",
    "\n",
    "## Question 8: submit via pdf"
   ]
  },
  {
   "cell_type": "code",
   "execution_count": null,
   "id": "003abed1",
   "metadata": {},
   "outputs": [],
   "source": []
  }
 ],
 "metadata": {
  "kernelspec": {
   "display_name": "Python 3 (ipykernel)",
   "language": "python",
   "name": "python3"
  },
  "language_info": {
   "codemirror_mode": {
    "name": "ipython",
    "version": 3
   },
   "file_extension": ".py",
   "mimetype": "text/x-python",
   "name": "python",
   "nbconvert_exporter": "python",
   "pygments_lexer": "ipython3",
   "version": "3.9.12"
  }
 },
 "nbformat": 4,
 "nbformat_minor": 5
}
