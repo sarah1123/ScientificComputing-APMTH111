{
 "cells": [
  {
   "cell_type": "code",
   "execution_count": null,
   "id": "37418ade-7114-479f-8741-7ba43eeb05b2",
   "metadata": {},
   "outputs": [],
   "source": [
    "import numpy as np"
   ]
  },
  {
   "cell_type": "markdown",
   "id": "08a351c2-3eec-4d03-8b2f-a9be4159d86d",
   "metadata": {},
   "source": [
    "## Questions 1, 2, 3\n",
    "- submit via pdf\n",
    "- put any Python work related to these questions in the cell below"
   ]
  },
  {
   "cell_type": "code",
   "execution_count": null,
   "id": "216682b9-034a-4a0f-bf0c-56bbcab9903b",
   "metadata": {},
   "outputs": [],
   "source": [
    "# Q1a: calculations\n",
    "\n",
    "# Q2a: calculations\n",
    "\n",
    "# Q3a: calculations"
   ]
  }
 ],
 "metadata": {
  "kernelspec": {
   "display_name": "Python 3 (ipykernel)",
   "language": "python",
   "name": "python3"
  },
  "language_info": {
   "codemirror_mode": {
    "name": "ipython",
    "version": 3
   },
   "file_extension": ".py",
   "mimetype": "text/x-python",
   "name": "python",
   "nbconvert_exporter": "python",
   "pygments_lexer": "ipython3",
   "version": "3.11.4"
  }
 },
 "nbformat": 4,
 "nbformat_minor": 5
}
