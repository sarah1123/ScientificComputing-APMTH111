{
 "cells": [
  {
   "cell_type": "markdown",
   "id": "5bdfe328-00c5-40e8-983d-d9ad29ad5b12",
   "metadata": {},
   "source": [
    "## Week 02: Linear least squares and Python examples\n",
    "### Math goals\n",
    "- determine whether a model is linear in its parameters\n",
    "- given a linear model, identify the basis functions\n",
    "- write a linear model as a matrix equation $A\\mathbf{c} = \\mathbf{y}$\n",
    "- construct the normal equations associated with a matrix equation\n",
    "- describe the relationship between $\\mathbf{y}$ and $A\\overline{\\mathbf{c}}$ where $\\overline{\\mathbf{c}}$ is the least squares solution to the matrix equation above\n",
    "- stuff about other norms...\n",
    "- calculate the error magnification for a particular problem given the true input $x$, the exact output $y$, the actual output $ya$, and an input for which $ya$ is the correct output $xa$.\n",
    "\n",
    "### Python goals\n",
    "- define a matrix\n",
    "- multiply a matrix and a vector\n",
    "- construct a matrix transpose\n",
    "- compute a matrix inverse\n",
    "- solve a linear least square problem using a built-in command\n",
    "- add axis labels and a legend to a plot"
   ]
  },
  {
   "cell_type": "code",
   "execution_count": 31,
   "id": "36f542ed-17cc-4212-ab9b-90781417f3da",
   "metadata": {},
   "outputs": [],
   "source": [
    "import numpy as np\n",
    "from scipy import linalg"
   ]
  },
  {
   "cell_type": "code",
   "execution_count": 32,
   "id": "bf8cd6a2-261b-4361-8cd4-dee7bbc0d4d3",
   "metadata": {},
   "outputs": [
    {
     "name": "stdout",
     "output_type": "stream",
     "text": [
      "two ways to multiply a matrix and a vector: [11  3 36] [11  3 36]\n"
     ]
    }
   ],
   "source": [
    "# define a matrix\n",
    "# define a vector\n",
    "# multiply a matrix and a vector\n",
    "\n",
    "a = np.array([[2,3],[1,4],[5,-1]])\n",
    "x = np.array([7,-1])\n",
    "# method 1: np.matmul\n",
    "b = np.matmul(a,x)\n",
    "# method 2: @\n",
    "b1 = a@x\n",
    "print(\"two ways to multiply a matrix and a vector:\", b, b1)\n",
    "\n",
    "# you may see np.dot(A,x) as a third way.  \n",
    "#  Its output will be different than np.matmul for some inputs: np.matmul is preferred."
   ]
  },
  {
   "cell_type": "code",
   "execution_count": 33,
   "id": "81269d93-b25d-42f0-87c9-6e2469ccab89",
   "metadata": {},
   "outputs": [],
   "source": [
    "# construct a matrix transpose\n",
    "# compute a matrix inverse\n",
    "a_transpose = a.T\n",
    "\n",
    "# make the matrix square by finding A.T @ A, then invert.\n",
    "a_inv = linalg.inv(a.T@a)"
   ]
  },
  {
   "cell_type": "code",
   "execution_count": 40,
   "id": "44d422ca-fb09-4c72-a2b9-a8d02bce5eaa",
   "metadata": {},
   "outputs": [
    {
     "name": "stdout",
     "output_type": "stream",
     "text": [
      "the least square solution is [ 6.40662252 -1.0397351 ]\n",
      "the square of the 2-norm of the error vector is 0.16026490066224686\n",
      "the matrix has rank 2\n"
     ]
    }
   ],
   "source": [
    "# find a least squares solution\n",
    "b = np.array([10,2,33])\n",
    "x,error_sq,rank,sing_values = linalg.lstsq(a,b,cond=0)\n",
    "print('the least square solution is',x)\n",
    "print('the square of the 2-norm of the error vector is',error_sq)\n",
    "print('the matrix has rank',rank)"
   ]
  },
  {
   "cell_type": "code",
   "execution_count": null,
   "id": "37fbc0a1-652e-4e7e-9c4d-c86000b89b4e",
   "metadata": {},
   "outputs": [],
   "source": []
  }
 ],
 "metadata": {
  "kernelspec": {
   "display_name": "Python 3 (ipykernel)",
   "language": "python",
   "name": "python3"
  },
  "language_info": {
   "codemirror_mode": {
    "name": "ipython",
    "version": 3
   },
   "file_extension": ".py",
   "mimetype": "text/x-python",
   "name": "python",
   "nbconvert_exporter": "python",
   "pygments_lexer": "ipython3",
   "version": "3.11.4"
  }
 },
 "nbformat": 4,
 "nbformat_minor": 5
}
