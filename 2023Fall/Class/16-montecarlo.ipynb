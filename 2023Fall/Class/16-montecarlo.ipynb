{
 "cells": [
  {
   "cell_type": "code",
   "execution_count": 47,
   "id": "9a185ba8-81d3-4058-98ea-b7f567411134",
   "metadata": {},
   "outputs": [],
   "source": [
    "import numpy as np\n",
    "import matplotlib.pyplot as plt\n",
    "rng = np.random.default_rng(12345)"
   ]
  },
  {
   "cell_type": "code",
   "execution_count": 48,
   "id": "cfe0bcb9-dd0b-4f48-bd91-e23864694ceb",
   "metadata": {},
   "outputs": [
    {
     "name": "stdout",
     "output_type": "stream",
     "text": [
      "2.2959074178310708\n"
     ]
    },
    {
     "data": {
      "image/png": "[encoded data removed]",
      "text/plain": [
       "<Figure size 300x200 with 1 Axes>"
      ]
     },
     "metadata": {},
     "output_type": "display_data"
    }
   ],
   "source": [
    "def f(x):\n",
    "     return np.exp(x) - 2*np.sin(4*x) + 1\n",
    "\n",
    "num_points = 4\n",
    "repeat = 1000\n",
    "MC_list = []\n",
    "for k1 in range(repeat):\n",
    "    # use domain of [0,2]\n",
    "    xvalues = rng.uniform(size=num_points,low=0,high=2)\n",
    "    domain_size = 2\n",
    "    MC_list.append(domain_size*np.mean(f(xvalues)))\n",
    "plt.figure(figsize=[3,2])\n",
    "plt.hist(MC_list)\n",
    "other_interp = [8.439, 7.797, 7.642]\n",
    "[plt.plot([k,k],[0,175]) for k in other_interp]\n",
    "plt.plot([7.816, 7.816],[0,175],'k')\n",
    "plt.xlabel('Monte Carlo estimate')\n",
    "plt.ylabel('count')\n",
    "print(np.std(MC_list))\n",
    "plt.savefig('C16-MC4pts.png',dpi=150,bbox_inches = 'tight')"
   ]
  },
  {
   "cell_type": "code",
   "execution_count": 51,
   "id": "1be62ccf-8e39-43e9-afb6-aa14e1ab5ad8",
   "metadata": {},
   "outputs": [
    {
     "name": "stdout",
     "output_type": "stream",
     "text": [
      "0.8531986549646678\n"
     ]
    },
    {
     "data": {
      "image/png": "[encoded data removed]",
      "text/plain": [
       "<Figure size 300x200 with 1 Axes>"
      ]
     },
     "metadata": {},
     "output_type": "display_data"
    }
   ],
   "source": [
    "num_points = 4\n",
    "repeat = 10\n",
    "MC_list = []\n",
    "num_list = []\n",
    "for k1 in range(repeat):\n",
    "    for k2 in range(repeat):\n",
    "        # use domain of [0,2]\n",
    "        xvalues = rng.uniform(size=num_points,low=0,high=2)\n",
    "        domain_size = 2\n",
    "        MC_list.append(domain_size*np.mean(f(xvalues)))\n",
    "        num_list.append(num_points)\n",
    "    num_points = num_points*2\n",
    "plt.figure(figsize=[3,2])\n",
    "plt.plot(num_list,MC_list,'.')\n",
    "# other_interp = [8.439, 7.797, 7.642]\n",
    "# [plt.plot([k,k],[0,175]) for k in other_interp]\n",
    "# plt.plot([7.816, 7.816],[0,175],'k')\n",
    "# plt.xlabel('Monte Carlo estimate')\n",
    "# plt.ylabel('count')\n",
    "print(np.std(MC_list))\n",
    "#plt.savefig('C16-MC4pts.png',dpi=150,bbox_inches = 'tight')"
   ]
  },
  {
   "cell_type": "code",
   "execution_count": null,
   "id": "c408cb6a-f161-4440-bbe2-e550b2c66b74",
   "metadata": {},
   "outputs": [],
   "source": []
  }
 ],
 "metadata": {
  "kernelspec": {
   "display_name": "Python 3 (ipykernel)",
   "language": "python",
   "name": "python3"
  },
  "language_info": {
   "codemirror_mode": {
    "name": "ipython",
    "version": 3
   },
   "file_extension": ".py",
   "mimetype": "text/x-python",
   "name": "python",
   "nbconvert_exporter": "python",
   "pygments_lexer": "ipython3",
   "version": "3.11.4"
  }
 },
 "nbformat": 4,
 "nbformat_minor": 5
}
