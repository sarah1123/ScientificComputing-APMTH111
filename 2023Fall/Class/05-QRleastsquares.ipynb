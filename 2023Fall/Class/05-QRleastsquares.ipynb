{
 "cells": [
  {
   "cell_type": "markdown",
   "id": "88be2ac0-ae22-48a1-80ec-9a92e4c2b9d4",
   "metadata": {},
   "source": [
    "## Comparing error in least squares\n",
    "\n"
   ]
  },
  {
   "cell_type": "code",
   "execution_count": 10,
   "id": "b2fe3f4c-7dfd-476c-87a4-71e64d04661f",
   "metadata": {},
   "outputs": [],
   "source": [
    "import numpy as np\n",
    "from scipy import linalg\n",
    "import timeit"
   ]
  },
  {
   "cell_type": "markdown",
   "id": "1b74e39c-4485-4d2e-b9f4-e29d7210d559",
   "metadata": {},
   "source": [
    "### Set up problem\n",
    "Use van der Monde with three columns"
   ]
  },
  {
   "cell_type": "code",
   "execution_count": 11,
   "id": "4521104a-46cf-4cd9-b582-10e56930acf3",
   "metadata": {},
   "outputs": [
    {
     "name": "stdout",
     "output_type": "stream",
     "text": [
      "2.8888381436329173e+19\n"
     ]
    }
   ],
   "source": [
    "rows = 8\n",
    "c = np.ones(rows)\n",
    "x = np.arange(2,4.1,0.2)\n",
    "A = np.vander(x,rows)\n",
    "y = np.matmul(A,c)\n",
    "print(np.linalg.cond(A.T@A))"
   ]
  },
  {
   "cell_type": "code",
   "execution_count": 166,
   "id": "f3b1a469-2ec5-4e90-b2e9-8b3d0db634a7",
   "metadata": {},
   "outputs": [
    {
     "name": "stdout",
     "output_type": "stream",
     "text": [
      "11 8 11\n"
     ]
    }
   ],
   "source": [
    "print(len(A),len(A.T), len(y))"
   ]
  },
  {
   "cell_type": "markdown",
   "id": "d01b42e3-7f73-40a1-b9cf-be4499eed78b",
   "metadata": {},
   "source": [
    "### normal equations via matrix inverse\n",
    "\n",
    "Given $A$ and $\\mathbf{y}$, find the least sq"
   ]
  },
  {
   "cell_type": "code",
   "execution_count": 9,
   "id": "82bd9438-dfd5-4099-a9bd-0a861fc7060c",
   "metadata": {},
   "outputs": [
    {
     "name": "stdout",
     "output_type": "stream",
     "text": [
      "8.83 µs ± 260 ns per loop (mean ± std. dev. of 7 runs, 100,000 loops each)\n"
     ]
    }
   ],
   "source": [
    "%%timeit\n",
    "\n",
    "A2 = A.T @ A\n",
    "y2 = A.T @ y\n",
    "c_over = np.linalg.inv(A2)@(y2)"
   ]
  },
  {
   "cell_type": "code",
   "execution_count": 12,
   "id": "74ffc43e-2c59-4763-9384-f9765e9c2f2d",
   "metadata": {},
   "outputs": [
    {
     "name": "stdout",
     "output_type": "stream",
     "text": [
      "coefficients should be 1s: [1.33203125, -3.8125, 26.0, -76.0, 176.0, -256.0, 224.0, -92.0]\n"
     ]
    }
   ],
   "source": [
    "A2 = A.T @ A\n",
    "y2 = A.T @ y\n",
    "c_over = np.linalg.inv(A2)@(y2)\n",
    "print(\"coefficients should be 1s:\", [c for c in c_over])\n",
    "y_over = A@c_over"
   ]
  },
  {
   "cell_type": "markdown",
   "id": "7ad5f5f1-905c-45c5-80b7-915dbd8b4c02",
   "metadata": {},
   "source": [
    "### normal equations via Cholesky factorization"
   ]
  },
  {
   "cell_type": "code",
   "execution_count": 12,
   "id": "b21899ea-bc84-43b5-b3ef-79f2b8da9778",
   "metadata": {},
   "outputs": [
    {
     "name": "stdout",
     "output_type": "stream",
     "text": [
      "7.1 µs ± 56 ns per loop (mean ± std. dev. of 7 runs, 100,000 loops each)\n"
     ]
    }
   ],
   "source": [
    "%%timeit\n",
    "A2 = A.T @ A\n",
    "y2 = A.T @ y\n",
    "ch, low = linalg.cho_factor(A2)\n",
    "c_over = linalg.cho_solve((ch, low), y2)\n"
   ]
  },
  {
   "cell_type": "code",
   "execution_count": 4,
   "id": "08be2b76-2bc7-4fe1-8db8-1be279767144",
   "metadata": {},
   "outputs": [
    {
     "name": "stdout",
     "output_type": "stream",
     "text": [
      "coefficients should be 1s: [ 1.00058837  0.98760692  1.11086082  0.45419753  2.59686198 -1.77574037\n",
      "  3.65379288 -0.07638327]\n"
     ]
    }
   ],
   "source": [
    "ch, low = linalg.cho_factor(A2)\n",
    "c_over = linalg.cho_solve((ch, low), y2)\n",
    "print(\"coefficients should be 1s:\", c_over)"
   ]
  },
  {
   "cell_type": "markdown",
   "id": "51d6ae62-dc39-45fe-b112-31436e10833a",
   "metadata": {},
   "source": [
    "### QR"
   ]
  },
  {
   "cell_type": "code",
   "execution_count": 13,
   "id": "be3e11e8-7d6a-4510-a349-ea395aabd0a8",
   "metadata": {},
   "outputs": [
    {
     "name": "stdout",
     "output_type": "stream",
     "text": [
      "12.5 µs ± 80.1 ns per loop (mean ± std. dev. of 7 runs, 100,000 loops each)\n"
     ]
    }
   ],
   "source": [
    "%%timeit\n",
    "Q, R = np.linalg.qr(A, mode='reduced')\n",
    "Q_T = np.transpose(Q)\n",
    "product1 = np.dot(Q_T,y)\n",
    "# default for solve_triangular is an upper triangular\n",
    "c_over = linalg.solve_triangular(R, product1)"
   ]
  },
  {
   "cell_type": "code",
   "execution_count": 14,
   "id": "73f4548b-c499-40b2-8326-3a899329e23f",
   "metadata": {},
   "outputs": [
    {
     "name": "stdout",
     "output_type": "stream",
     "text": [
      "coefficients should be 1s: [1.000000000018532, 0.9999999996288799, 1.0000000031435226, 0.9999999854257074, 1.0000000398546254, 0.9999999359076287, 1.000000055899682, 0.9999999797170683]\n"
     ]
    }
   ],
   "source": [
    "Q, R = np.linalg.qr(A, mode='reduced')\n",
    "Q_T = np.transpose(Q)\n",
    "product1 = np.dot(Q_T,y)\n",
    "# default for solve_triangular is an upper triangular\n",
    "c_over = linalg.solve_triangular(R, product1)\n",
    "print(\"coefficients should be 1s:\", [c for c in c_over])"
   ]
  },
  {
   "cell_type": "code",
   "execution_count": 17,
   "id": "6f4581f4-ccd3-4c63-9139-e06f522abf27",
   "metadata": {},
   "outputs": [
    {
     "name": "stdout",
     "output_type": "stream",
     "text": [
      "17.9 µs ± 759 ns per loop (mean ± std. dev. of 7 runs, 100,000 loops each)\n"
     ]
    }
   ],
   "source": [
    "%%timeit\n",
    "Q, R = np.linalg.qr(A, mode='reduced')\n",
    "Q_T = np.transpose(Q)\n",
    "R_inv = np.linalg.inv(R)\n",
    "product1 = np.dot(R_inv,Q_T)\n",
    "c_over = np.dot(product1,y)"
   ]
  },
  {
   "cell_type": "code",
   "execution_count": 15,
   "id": "34ee9678-96c8-4815-8427-04e9cf166978",
   "metadata": {},
   "outputs": [
    {
     "name": "stdout",
     "output_type": "stream",
     "text": [
      "coefficients should be 1s: [1.         1.         1.         0.99999999 1.00000012 0.99999991\n",
      " 1.00000015 0.99999994]\n"
     ]
    }
   ],
   "source": [
    "Q, R = np.linalg.qr(A, mode='reduced')\n",
    "Q_T = np.transpose(Q)\n",
    "R_inv = np.linalg.inv(R)\n",
    "product1 = np.dot(R_inv,Q_T)\n",
    "c_over = np.dot(product1,y)\n",
    "print(\"coefficients should be 1s:\", c_over)"
   ]
  },
  {
   "cell_type": "code",
   "execution_count": 141,
   "id": "adf8ed40-d58d-44a6-b1ba-8063bfc9ac37",
   "metadata": {},
   "outputs": [
    {
     "name": "stdout",
     "output_type": "stream",
     "text": [
      "[[-0.83333333  0.16666667]\n",
      " [-0.16666667 -0.83333333]\n",
      " [ 0.5        -0.16666667]\n",
      " [-0.16666667 -0.5       ]]\n",
      "[[ -6. -12.]\n",
      " [  0.  -6.]]\n"
     ]
    }
   ],
   "source": [
    "B = [[5,9],[1,7],[-3,-5],[1,5]]\n",
    "Q, R = np.linalg.qr(B, mode='reduced')\n",
    "print(Q)\n",
    "print(R)"
   ]
  },
  {
   "cell_type": "code",
   "execution_count": 143,
   "id": "b6f451b3-3445-4522-bec7-139c616f7c4e",
   "metadata": {},
   "outputs": [
    {
     "data": {
      "text/plain": [
       "array([-4, -6,  2, -4])"
      ]
     },
     "execution_count": 143,
     "metadata": {},
     "output_type": "execute_result"
    }
   ],
   "source": [
    "B@np.array([1,-1])"
   ]
  },
  {
   "cell_type": "code",
   "execution_count": 7,
   "id": "90904798-e4ec-4c4f-b7c5-b2c781fd2ebd",
   "metadata": {},
   "outputs": [
    {
     "name": "stdout",
     "output_type": "stream",
     "text": [
      "[[-2.25318595e+04 -5.90438580e+03 -1.55483115e+03 -4.11786319e+02\n",
      "  -1.09793269e+02 -2.95081486e+01 -8.00692363e+00 -2.19803609e+00]\n",
      " [ 0.00000000e+00 -4.14083700e+02 -2.36639392e+02 -1.02639191e+02\n",
      "  -4.01166244e+01 -1.49326921e+01 -5.43338002e+00 -1.96216573e+00]\n",
      " [ 0.00000000e+00  0.00000000e+00 -1.86655995e+01 -1.75074665e+01\n",
      "  -1.11279519e+01 -5.99972400e+00 -2.96737825e+00 -1.39782893e+00]\n",
      " [ 0.00000000e+00  0.00000000e+00  0.00000000e+00  1.26125391e+00\n",
      "   1.67616107e+00  1.41335378e+00  9.68388048e-01  5.89939068e-01]\n",
      " [ 0.00000000e+00  0.00000000e+00  0.00000000e+00  0.00000000e+00\n",
      "   8.72094850e-02  1.49604933e-01  1.55910472e-01  1.27975978e-01]\n",
      " [ 0.00000000e+00  0.00000000e+00  0.00000000e+00  0.00000000e+00\n",
      "   0.00000000e+00 -5.61392520e-03 -1.17591338e-02 -1.45146453e-02]\n",
      " [ 0.00000000e+00  0.00000000e+00  0.00000000e+00  0.00000000e+00\n",
      "   0.00000000e+00  0.00000000e+00  3.31072842e-04  8.16256162e-04]\n",
      " [ 0.00000000e+00  0.00000000e+00  0.00000000e+00  0.00000000e+00\n",
      "   0.00000000e+00  0.00000000e+00  0.00000000e+00 -1.73850554e-05]]\n"
     ]
    }
   ],
   "source": [
    "print(R)"
   ]
  },
  {
   "cell_type": "code",
   "execution_count": 9,
   "id": "73f8a2f3-8a01-4aab-b266-a36e14a023dd",
   "metadata": {},
   "outputs": [
    {
     "name": "stdout",
     "output_type": "stream",
     "text": [
      "[[2.25318595e+04 5.90438580e+03 1.55483115e+03 4.11786319e+02\n",
      "  1.09793269e+02 2.95081486e+01 8.00692363e+00 2.19803609e+00]\n",
      " [1.33036791e+08 4.14083700e+02 2.36639392e+02 1.02639191e+02\n",
      "  4.01166244e+01 1.49326921e+01 5.43338002e+00 1.96216573e+00]\n",
      " [3.50332370e+07 9.27831148e+06 1.86655995e+01 1.75074665e+01\n",
      "  1.11279519e+01 5.99972400e+00 2.96737825e+00 1.39782893e+00]\n",
      " [9.27831148e+06 2.47384651e+06 6.64873459e+05 1.26125391e+00\n",
      "  1.67616107e+00 1.41335378e+00 9.68388048e-01 5.89939068e-01]\n",
      " [2.47384651e+06 6.64873459e+05 1.80410878e+05 4.95258403e+04\n",
      "  8.72094852e-02 1.49604933e-01 1.55910473e-01 1.27975978e-01]\n",
      " [6.64873459e+05 1.80410878e+05 4.95258403e+04 1.37905539e+04\n",
      "  3.90799200e+03 5.61392561e-03 1.17591327e-02 1.45146443e-02]\n",
      " [1.80410878e+05 4.95258403e+04 1.37905539e+04 3.90799200e+03\n",
      "  1.13173280e+03 3.36600000e+02 3.31087186e-04 8.16263320e-04]\n",
      " [4.95258403e+04 1.37905539e+04 3.90799200e+03 1.13173280e+03\n",
      "  3.36600000e+02 1.03400000e+02 3.30000000e+01 1.75665415e-05]]\n"
     ]
    }
   ],
   "source": [
    "print(ch)"
   ]
  },
  {
   "cell_type": "markdown",
   "id": "f966beba-c7b5-42ab-9332-4a25ebc6aeba",
   "metadata": {},
   "source": [
    "### Error magnification"
   ]
  },
  {
   "cell_type": "code",
   "execution_count": 162,
   "id": "8b5e70b9-a3b4-49c8-9652-5e46dd33c0b4",
   "metadata": {},
   "outputs": [],
   "source": [
    "def error_magnification(c, c_calc, y, y_calc):\n",
    "    forward_error = np.linalg.norm(c - c_calc)\n",
    "    backward_error = np.linalg.norm(y - y_calc)\n",
    "    print(\"forward\",forward_error)\n",
    "    print(\"backward\",backward_error)\n",
    "    error_mag_abs = forward_error/backward_error\n",
    "    error_mag_rel = error_mag_abs*np.linalg.norm(y)/np.linalg.norm(c)\n",
    "    return error_mag_abs, error_mag_rel"
   ]
  }
 ],
 "metadata": {
  "kernelspec": {
   "display_name": "Python 3 (ipykernel)",
   "language": "python",
   "name": "python3"
  },
  "language_info": {
   "codemirror_mode": {
    "name": "ipython",
    "version": 3
   },
   "file_extension": ".py",
   "mimetype": "text/x-python",
   "name": "python",
   "nbconvert_exporter": "python",
   "pygments_lexer": "ipython3",
   "version": "3.11.4"
  }
 },
 "nbformat": 4,
 "nbformat_minor": 5
}
