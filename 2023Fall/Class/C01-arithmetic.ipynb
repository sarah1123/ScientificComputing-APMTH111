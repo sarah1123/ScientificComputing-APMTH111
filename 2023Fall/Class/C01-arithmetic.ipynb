{
 "cells": [
  {
   "cell_type": "code",
   "execution_count": 3,
   "id": "7dd786cd-c717-41b8-b893-af4cb29b34b9",
   "metadata": {},
   "outputs": [
    {
     "name": "stdout",
     "output_type": "stream",
     "text": [
      "0.0\n"
     ]
    }
   ],
   "source": [
    "print(3/2 - 1/2 - 1)"
   ]
  },
  {
   "cell_type": "code",
   "execution_count": 4,
   "id": "786fe79e-c723-4d85-8572-a810df8e33f1",
   "metadata": {},
   "outputs": [
    {
     "name": "stdout",
     "output_type": "stream",
     "text": [
      "2.220446049250313e-16\n"
     ]
    }
   ],
   "source": [
    "print(7/3 - 4/3 - 1)"
   ]
  },
  {
   "cell_type": "code",
   "execution_count": null,
   "id": "b1d861ec-3547-408c-a728-a06d7903baa0",
   "metadata": {},
   "outputs": [],
   "source": []
  }
 ],
 "metadata": {
  "kernelspec": {
   "display_name": "Python 3 (ipykernel)",
   "language": "python",
   "name": "python3"
  },
  "language_info": {
   "codemirror_mode": {
    "name": "ipython",
    "version": 3
   },
   "file_extension": ".py",
   "mimetype": "text/x-python",
   "name": "python",
   "nbconvert_exporter": "python",
   "pygments_lexer": "ipython3",
   "version": "3.11.4"
  }
 },
 "nbformat": 4,
 "nbformat_minor": 5
}
