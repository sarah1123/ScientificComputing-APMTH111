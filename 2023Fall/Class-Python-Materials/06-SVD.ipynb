{
 "cells": [
  {
   "cell_type": "code",
   "execution_count": 2,
   "id": "d70ebc18-e0d8-4554-ab87-a886df0e390e",
   "metadata": {},
   "outputs": [],
   "source": [
    "import numpy as np\n",
    "from scipy import linalg\n",
    "import timeit"
   ]
  },
  {
   "cell_type": "code",
   "execution_count": 11,
   "id": "3d2dfc7b-d3f0-45e7-8079-9f301da8e755",
   "metadata": {},
   "outputs": [
    {
     "name": "stdout",
     "output_type": "stream",
     "text": [
      "2.8888381436329173e+19\n"
     ]
    }
   ],
   "source": [
    "rows = 8\n",
    "c = np.ones(rows)\n",
    "x = np.arange(2,4.1,0.2)\n",
    "A = np.vander(x,rows)\n",
    "y = np.matmul(A,c)\n",
    "print(np.linalg.cond(A.T@A))"
   ]
  },
  {
   "cell_type": "code",
   "execution_count": 71,
   "id": "e8769c4a-4304-486e-9ccb-7cf32d19d8d4",
   "metadata": {},
   "outputs": [
    {
     "name": "stdout",
     "output_type": "stream",
     "text": [
      "21 µs ± 111 ns per loop (mean ± std. dev. of 7 runs, 10,000 loops each)\n"
     ]
    }
   ],
   "source": [
    "%%timeit\n",
    "U1, S1, VT = np.linalg.svd(A, full_matrices=False)\n",
    "sigma = np.diag(S1)\n",
    "# pseudoinverse of sigma:\n",
    "sigma_inv = np.linalg.pinv(sigma)\n",
    "c_over = VT.T @ sigma_inv @ U1.T @ y"
   ]
  },
  {
   "cell_type": "code",
   "execution_count": 72,
   "id": "67afe494-d1df-449a-a5cd-d1b53805772e",
   "metadata": {},
   "outputs": [
    {
     "name": "stdout",
     "output_type": "stream",
     "text": [
      "13.9 µs ± 1.45 µs per loop (mean ± std. dev. of 7 runs, 100,000 loops each)\n"
     ]
    }
   ],
   "source": [
    "%%timeit\n",
    "c, res, rnk, s = linalg.lstsq(A, y)"
   ]
  },
  {
   "cell_type": "code",
   "execution_count": 78,
   "id": "a1e43113-68ef-4380-93c9-67acb99e9f0a",
   "metadata": {},
   "outputs": [
    {
     "name": "stdout",
     "output_type": "stream",
     "text": [
      "[1.         1.         1.         0.99999999 1.00000004 1.00000003\n",
      " 1.00000006 1.        ]\n"
     ]
    }
   ],
   "source": [
    "U1, S1, VT = np.linalg.svd(A, full_matrices=False)\n",
    "sigma = np.diag(S1)\n",
    "# pseudoinverse of sigma:\n",
    "sigma_inv = np.linalg.pinv(sigma)\n",
    "c_over = VT.T @ sigma_inv @ U1.T @ y\n",
    "print(c_over)"
   ]
  },
  {
   "cell_type": "code",
   "execution_count": 74,
   "id": "57c10341-c293-4610-9ec4-f003301862b1",
   "metadata": {},
   "outputs": [
    {
     "name": "stdout",
     "output_type": "stream",
     "text": [
      "[1.         1.         1.         1.         1.         1.00000001\n",
      " 0.99999999 1.00000001]\n"
     ]
    }
   ],
   "source": [
    "c, res, rnk, s = linalg.lstsq(A, y)\n",
    "print(c)"
   ]
  },
  {
   "cell_type": "code",
   "execution_count": 79,
   "id": "71506561-7288-434c-ab91-8f435bbf4dca",
   "metadata": {},
   "outputs": [],
   "source": [
    "A1 = np.column_stack((A, y))\n",
    "U1, S1, VT = np.linalg.svd(A1, full_matrices=False)\n",
    "c_over_2 = -1/VT.T[-1,-1]*VT.T[0:-2,-1]\n",
    "S1[-1] = 0\n",
    "sigma = np.diag(S1)\n",
    "Ahat = U1@sigma@VT"
   ]
  },
  {
   "cell_type": "code",
   "execution_count": 44,
   "id": "97a6a57d-cfc5-4fbf-9205-fe0791e033a7",
   "metadata": {},
   "outputs": [
    {
     "name": "stdout",
     "output_type": "stream",
     "text": [
      "[1.         1.         1.         1.         1.         1.\n",
      " 0.99999999]\n"
     ]
    }
   ],
   "source": [
    "print(c_over_2)"
   ]
  },
  {
   "cell_type": "code",
   "execution_count": 80,
   "id": "8b058221-fb5e-47e3-a321-f5f9a06c610f",
   "metadata": {},
   "outputs": [
    {
     "name": "stdout",
     "output_type": "stream",
     "text": [
      "9.41 µs ± 57.5 ns per loop (mean ± std. dev. of 7 runs, 100,000 loops each)\n"
     ]
    }
   ],
   "source": [
    "%%timeit\n",
    "A1 = np.column_stack((A, y))\n",
    "U1, S1, VT = np.linalg.svd(A1, full_matrices=False)\n",
    "c_over_2 = -1/VT.T[-1,-1]*VT.T[0:-2,-1]"
   ]
  },
  {
   "cell_type": "code",
   "execution_count": 63,
   "id": "dc2286c1-8d8d-4bd2-970e-566c6d2c4e82",
   "metadata": {},
   "outputs": [
    {
     "name": "stdout",
     "output_type": "stream",
     "text": [
      "[  128.          249.4357888   458.6471424   803.1810176  1349.2928512\n",
      "  2187.         3435.9738368  5252.3350144  7836.4164096 11441.5582592\n",
      " 16384.       ]\n",
      "[  128.          249.4357888   458.6471424   803.1810176  1349.2928512\n",
      "  2187.         3435.9738368  5252.3350144  7836.4164096 11441.5582592\n",
      " 16384.       ]\n"
     ]
    }
   ],
   "source": [
    "k=8\n",
    "print(Ahat[:,-k-1])\n",
    "print(A[:,-k])"
   ]
  },
  {
   "cell_type": "code",
   "execution_count": 57,
   "id": "adc56261-8c7c-45e7-8093-5279c3373aab",
   "metadata": {},
   "outputs": [
    {
     "data": {
      "text/plain": [
       "array([ 8.   , 10.648, 13.824, 17.576, 21.952, 27.   , 32.768, 39.304,\n",
       "       46.656, 54.872, 64.   ])"
      ]
     },
     "execution_count": 57,
     "metadata": {},
     "output_type": "execute_result"
    }
   ],
   "source": []
  },
  {
   "cell_type": "code",
   "execution_count": null,
   "id": "4439f41c-9b63-4044-8d36-cf2f023202cc",
   "metadata": {},
   "outputs": [],
   "source": []
  }
 ],
 "metadata": {
  "kernelspec": {
   "display_name": "Python 3 (ipykernel)",
   "language": "python",
   "name": "python3"
  },
  "language_info": {
   "codemirror_mode": {
    "name": "ipython",
    "version": 3
   },
   "file_extension": ".py",
   "mimetype": "text/x-python",
   "name": "python",
   "nbconvert_exporter": "python",
   "pygments_lexer": "ipython3",
   "version": "3.11.4"
  }
 },
 "nbformat": 4,
 "nbformat_minor": 5
}
