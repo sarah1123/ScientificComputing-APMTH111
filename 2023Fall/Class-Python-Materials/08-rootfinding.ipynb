{
 "cells": [
  {
   "cell_type": "markdown",
   "metadata": {},
   "source": [
    "[![Open In Colab](https://colab.research.google.com/assets/colab-badge.svg)](https://colab.research.google.com/github/sarah1123/SciComp-F22-AM111/blob/main/07_root_finding/Class07RootFinding.ipynb)"
   ]
  },
  {
   "cell_type": "code",
   "execution_count": 2,
   "metadata": {
    "scrolled": false
   },
   "outputs": [
    {
     "name": "stdout",
     "output_type": "stream",
     "text": [
      "CPU times: user 3.39 s, sys: 794 ms, total: 4.19 s\n",
      "Wall time: 9.07 s\n"
     ]
    }
   ],
   "source": [
    "%%time\n",
    "import numpy as np\n",
    "import scipy as sp\n",
    "import pandas as pd\n",
    "import matplotlib.pyplot as plt\n",
    "import matplotlib as mpl\n",
    "import seaborn as sns "
   ]
  },
  {
   "cell_type": "code",
   "execution_count": 4,
   "metadata": {},
   "outputs": [],
   "source": [
    "# Functions\n",
    "def f1(x):\n",
    "    y = x**2-x-6\n",
    "    return y\n",
    "\n",
    "def f2(x):\n",
    "    y = x**3 - x**2\n",
    "    return y\n",
    "\n",
    "def f3(x):\n",
    "    y = x**3 - 2*x**2 +(4/3)*x -8/27\n",
    "    return y\n",
    "\n",
    "def f4(x):\n",
    "    y = x - 2**(-x)\n",
    "    return y"
   ]
  },
  {
   "cell_type": "code",
   "execution_count": 10,
   "metadata": {},
   "outputs": [],
   "source": [
    "# Derivatives\n",
    "def df1(x):\n",
    "    y = 2*x-1\n",
    "    return y\n",
    "\n",
    "def df2(x):\n",
    "    y = 3*x**2 - 2*x\n",
    "    return y\n",
    "\n",
    "def df3(x):\n",
    "    y = 3*x**2 - 4*x + 4/3\n",
    "    return y\n",
    "\n",
    "def df4(x):\n",
    "    y = 1 + np.log(2)*2**(-x)\n",
    "    return y"
   ]
  },
  {
   "cell_type": "code",
   "execution_count": 21,
   "metadata": {},
   "outputs": [
    {
     "name": "stdout",
     "output_type": "stream",
     "text": [
      "inf -inf\n",
      "0.282347088755958 2.409420839653209\n",
      "0.5 1.0\n",
      "0.5 1.0\n",
      "0.5 1.0\n",
      "0.5 1.0\n",
      "0.5 1.0\n",
      "0.5 1.0\n",
      "0.5 1.0\n",
      "0.5 1.0\n"
     ]
    },
    {
     "name": "stderr",
     "output_type": "stream",
     "text": [
      "/var/folders/q5/y48_vpwj329g7c88vsybqgvw0000gn/T/ipykernel_75981/1604123407.py:26: RuntimeWarning: divide by zero encountered in double_scalars\n",
      "  r[i] = np.log(diffA/diffB)/np.log(diffB/diffC);\n",
      "/var/folders/q5/y48_vpwj329g7c88vsybqgvw0000gn/T/ipykernel_75981/1604123407.py:27: RuntimeWarning: divide by zero encountered in double_scalars\n",
      "  C[i]  = diffA/(diffB**r[i]);\n"
     ]
    }
   ],
   "source": [
    "# Bisection method\n",
    "#\n",
    "a = 2   # initial interval for root\n",
    "b = 5   # initial interval for root\n",
    "N = 10  # number of iterations\n",
    "i = 0\n",
    "C  = np.zeros(N) # estimates of C\n",
    "r = np.zeros(N) # estimates of order r\n",
    "\n",
    "# initalize |xk-x|-type differences\n",
    "diffA, diffB, diffC = 2, 2, 2\n",
    "x = 2\n",
    "\n",
    "while i<N:\n",
    "    xNew  = (a+b)/2\n",
    "    diffC = diffB\n",
    "    diffB = diffA\n",
    "    diffA = abs(xNew-x)\n",
    "    x = xNew; \n",
    "    if f1(x) == 0:\n",
    "        break\n",
    "    if f1(a)*f1(x) > 0:\n",
    "        a=x\n",
    "    else:\n",
    "        b=x\n",
    "    r[i] = np.log(diffA/diffB)/np.log(diffB/diffC)\n",
    "    C[i]  = diffA/(diffB**r[i])\n",
    "    print(i,x,C[i],r[i])\n",
    "    i = i+1"
   ]
  },
  {
   "cell_type": "code",
   "execution_count": 19,
   "metadata": {},
   "outputs": [
    {
     "data": {
      "text/plain": [
       "<Figure size 432x288 with 0 Axes>"
      ]
     },
     "metadata": {},
     "output_type": "display_data"
    },
    {
     "data": {
      "image/png": "[encoded data removed]",
      "text/plain": [
       "<Figure size 432x288 with 1 Axes>"
      ]
     },
     "metadata": {},
     "output_type": "display_data"
    }
   ],
   "source": [
    "# Sample plot\n",
    "#\n",
    "from matplotlib import rc\n",
    "import matplotlib as mpl\n",
    "mpl.rcParams['pdf.fonttype'] = 42\n",
    "mpl.rcParams['ps.fonttype'] = 42\n",
    "import seaborn\n",
    "seaborn.set(style='ticks')\n",
    "\n",
    "fig = plt.figure() \n",
    "plt.rc('axes', labelsize=18)\n",
    "plt.rc('xtick', labelsize=18)\n",
    "plt.rc('ytick', labelsize=18)\n",
    "plt.rc('axes', titlesize=18)\n",
    "\n",
    "# Create an axes instance\n",
    "fig, ax = plt.subplots(1, 1, tight_layout=True)\n",
    "ax.scatter(range(N),r,s=100,linewidths=2.5, facecolors='none', edgecolors='b')\n",
    "ax.axis('equal')\n",
    "plt.xlabel('Number of iterations', size = 16)\n",
    "plt.ylabel('Estimate of alpha', size = 16)\n",
    "# plt.savefig('test.png',transparent=True)  \n",
    "plt.show()"
   ]
  },
  {
   "cell_type": "code",
   "execution_count": 20,
   "metadata": {},
   "outputs": [
    {
     "name": "stdout",
     "output_type": "stream",
     "text": [
      "0 -6.0 0.0 inf\n",
      "1 -3.230769230769231 9.772653001316197 -0.7037877659013353\n",
      "2 -2.203013481363997 0.2784882538442987 1.2819516332680758\n",
      "3 -2.007623800972449 0.18663252497308871 1.6748892519066119\n",
      "4 -2.0000115891269745 0.1852077560223605 1.9548039422643921\n",
      "5 -2.0000000000268616 0.19908718940161643 1.9990631687120175\n",
      "6 -2.0 0.19999739183188311 1.9999982769025637\n",
      "7 -2.0 nan inf\n"
     ]
    },
    {
     "name": "stderr",
     "output_type": "stream",
     "text": [
      "/var/folders/q5/y48_vpwj329g7c88vsybqgvw0000gn/T/ipykernel_75981/2225763521.py:17: RuntimeWarning: divide by zero encountered in double_scalars\n",
      "  r[i] = np.log(diffA/diffB)/np.log(diffB/diffC);\n",
      "/var/folders/q5/y48_vpwj329g7c88vsybqgvw0000gn/T/ipykernel_75981/2225763521.py:17: RuntimeWarning: divide by zero encountered in log\n",
      "  r[i] = np.log(diffA/diffB)/np.log(diffB/diffC);\n",
      "/var/folders/q5/y48_vpwj329g7c88vsybqgvw0000gn/T/ipykernel_75981/2225763521.py:18: RuntimeWarning: invalid value encountered in double_scalars\n",
      "  C[i]  = diffA/(diffB**r[i]);\n"
     ]
    },
    {
     "ename": "ZeroDivisionError",
     "evalue": "float division by zero",
     "output_type": "error",
     "traceback": [
      "\u001b[0;31m---------------------------------------------------------------------------\u001b[0m",
      "\u001b[0;31mZeroDivisionError\u001b[0m                         Traceback (most recent call last)",
      "Input \u001b[0;32mIn [20]\u001b[0m, in \u001b[0;36m<cell line: 11>\u001b[0;34m()\u001b[0m\n\u001b[1;32m     15\u001b[0m diffA \u001b[38;5;241m=\u001b[39m \u001b[38;5;28mabs\u001b[39m(xNew\u001b[38;5;241m-\u001b[39mx);\n\u001b[1;32m     16\u001b[0m x     \u001b[38;5;241m=\u001b[39m xNew; \u001b[38;5;66;03m# update root estimate\u001b[39;00m\n\u001b[0;32m---> 17\u001b[0m r[i] \u001b[38;5;241m=\u001b[39m np\u001b[38;5;241m.\u001b[39mlog(\u001b[43mdiffA\u001b[49m\u001b[38;5;241;43m/\u001b[39;49m\u001b[43mdiffB\u001b[49m)\u001b[38;5;241m/\u001b[39mnp\u001b[38;5;241m.\u001b[39mlog(diffB\u001b[38;5;241m/\u001b[39mdiffC);\n\u001b[1;32m     18\u001b[0m C[i]  \u001b[38;5;241m=\u001b[39m diffA\u001b[38;5;241m/\u001b[39m(diffB\u001b[38;5;241m*\u001b[39m\u001b[38;5;241m*\u001b[39mr[i]);\n\u001b[1;32m     19\u001b[0m \u001b[38;5;28mprint\u001b[39m(i,x,C[i],r[i]);\n",
      "\u001b[0;31mZeroDivisionError\u001b[0m: float division by zero"
     ]
    }
   ],
   "source": [
    "# Newton's method\n",
    "#\n",
    "x     = 0        # initial guess for root\n",
    "N     = 10       # number of iterations\n",
    "C  = np.zeros(N) # estimates of lambda\n",
    "r = np.zeros(N)  # estimates of order alpha\n",
    "i     = 0\n",
    "# initalize |pn-p|-type differences\n",
    "diffA, diffB, diffC = 2, 2, 2\n",
    "\n",
    "while i<N:\n",
    "    xNew  = x-f1(x)/df1(x) # Newton's method\n",
    "    diffC = diffB\n",
    "    diffB = diffA\n",
    "    diffA = abs(xNew-x)\n",
    "    x     = xNew # update root estimate\n",
    "    r[i]  = np.log(diffA/diffB)/np.log(diffB/diffC)\n",
    "    C[i]  = diffA/(diffB**r[i])\n",
    "    print(i,x,C[i],r[i])\n",
    "    i     = i+1"
   ]
  },
  {
   "cell_type": "code",
   "execution_count": 22,
   "metadata": {},
   "outputs": [
    {
     "name": "stdout",
     "output_type": "stream",
     "text": [
      "inf -inf\n",
      "0.11369060817278044 3.329460092761372\n",
      "0.1573815133502217 0.8941370047142863\n",
      "1.3248374877542113 2.125788830275385\n",
      "0.11466352084798608 1.4051502969581708\n",
      "1.010392350228528 1.7188363535167348\n",
      "0.18863719882541435 1.5779653647657021\n",
      "nan inf\n"
     ]
    },
    {
     "name": "stderr",
     "output_type": "stream",
     "text": [
      "/var/folders/q5/y48_vpwj329g7c88vsybqgvw0000gn/T/ipykernel_75981/549143026.py:21: RuntimeWarning: divide by zero encountered in double_scalars\n",
      "  r[i] = np.log(diffA/diffB)/np.log(diffB/diffC);\n",
      "/var/folders/q5/y48_vpwj329g7c88vsybqgvw0000gn/T/ipykernel_75981/549143026.py:22: RuntimeWarning: divide by zero encountered in double_scalars\n",
      "  C[i]  = diffA/(diffB**r[i]);\n",
      "/var/folders/q5/y48_vpwj329g7c88vsybqgvw0000gn/T/ipykernel_75981/549143026.py:21: RuntimeWarning: divide by zero encountered in log\n",
      "  r[i] = np.log(diffA/diffB)/np.log(diffB/diffC);\n",
      "/var/folders/q5/y48_vpwj329g7c88vsybqgvw0000gn/T/ipykernel_75981/549143026.py:22: RuntimeWarning: invalid value encountered in double_scalars\n",
      "  C[i]  = diffA/(diffB**r[i]);\n"
     ]
    },
    {
     "ename": "ZeroDivisionError",
     "evalue": "float division by zero",
     "output_type": "error",
     "traceback": [
      "\u001b[0;31m---------------------------------------------------------------------------\u001b[0m",
      "\u001b[0;31mZeroDivisionError\u001b[0m                         Traceback (most recent call last)",
      "Input \u001b[0;32mIn [22]\u001b[0m, in \u001b[0;36m<cell line: 12>\u001b[0;34m()\u001b[0m\n\u001b[1;32m     13\u001b[0m q    \u001b[38;5;241m=\u001b[39m f1(x);\n\u001b[1;32m     14\u001b[0m qOld \u001b[38;5;241m=\u001b[39m f1(xOld);\n\u001b[0;32m---> 15\u001b[0m xNew \u001b[38;5;241m=\u001b[39m x\u001b[38;5;241m-\u001b[39m\u001b[43mq\u001b[49m\u001b[38;5;241;43m*\u001b[39;49m\u001b[43m(\u001b[49m\u001b[43mx\u001b[49m\u001b[38;5;241;43m-\u001b[39;49m\u001b[43mxOld\u001b[49m\u001b[43m)\u001b[49m\u001b[38;5;241;43m/\u001b[39;49m\u001b[43m(\u001b[49m\u001b[43mq\u001b[49m\u001b[38;5;241;43m-\u001b[39;49m\u001b[43mqOld\u001b[49m\u001b[43m)\u001b[49m; \u001b[38;5;66;03m# Secant method\u001b[39;00m\n\u001b[1;32m     16\u001b[0m diffC \u001b[38;5;241m=\u001b[39m diffB;\n\u001b[1;32m     17\u001b[0m diffB \u001b[38;5;241m=\u001b[39m diffA;\n",
      "\u001b[0;31mZeroDivisionError\u001b[0m: float division by zero"
     ]
    }
   ],
   "source": [
    "# Secant method\n",
    "#\n",
    "x     = 2        # initial guess 1 for root\n",
    "xOld  = 2.5      # initial guess 2 for root\n",
    "N     = 10       # number of iterations\n",
    "C  = np.zeros(N) # estimates of C\n",
    "r = np.zeros(N)  # estimates of order r\n",
    "i     = 0\n",
    "# initalize |xn-x|-type differences\n",
    "diffA, diffB, diffC = 2, 2, 2\n",
    "\n",
    "while i<N:\n",
    "    q    = f1(x)\n",
    "    qOld = f1(xOld)\n",
    "    xNew = x-q*(x-xOld)/(q-qOld) # Secant method\n",
    "    diffC = diffB\n",
    "    diffB = diffA\n",
    "    diffA = abs(xNew-x)\n",
    "    xOld  = x\n",
    "    x     = xNew # update root estimate\n",
    "    r[i]  = np.log(diffA/diffB)/np.log(diffB/diffC)\n",
    "    C[i]  = diffA/(diffB**r[i])\n",
    "    #print(i,x,C[i],r[i])\n",
    "    print(C[i],r[i])\n",
    "    i     = i+1"
   ]
  },
  {
   "cell_type": "code",
   "execution_count": null,
   "metadata": {},
   "outputs": [],
   "source": []
  }
 ],
 "metadata": {
  "kernelspec": {
   "display_name": "Python 3.x",
   "language": "python",
   "name": "python3"
  },
  "language_info": {
   "codemirror_mode": {
    "name": "ipython",
    "version": 3
   },
   "file_extension": ".py",
   "mimetype": "text/x-python",
   "name": "python",
   "nbconvert_exporter": "python",
   "pygments_lexer": "ipython3",
   "version": "3"
  },
  "vscode": {
   "interpreter": {
    "hash": "b0fa6594d8f4cbf19f97940f81e996739fb7646882a419484c72d19e05852a7e"
   }
  }
 },
 "nbformat": 4,
 "nbformat_minor": 2
}
