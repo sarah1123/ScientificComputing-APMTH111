{
 "cells": [
  {
   "cell_type": "code",
   "execution_count": 3,
   "id": "7dd786cd-c717-41b8-b893-af4cb29b34b9",
   "metadata": {},
   "outputs": [
    {
     "name": "stdout",
     "output_type": "stream",
     "text": [
      "0.0\n"
     ]
    }
   ],
   "source": [
    "print(3/2 - 1/2 - 1)"
   ]
  },
  {
   "cell_type": "code",
   "execution_count": 4,
   "id": "786fe79e-c723-4d85-8572-a810df8e33f1",
   "metadata": {},
   "outputs": [
    {
     "name": "stdout",
     "output_type": "stream",
     "text": [
      "2.220446049250313e-16\n"
     ]
    }
   ],
   "source": [
    "print(7/3 - 4/3 - 1)"
   ]
  },
  {
   "cell_type": "code",
   "execution_count": 51,
   "id": "b1d861ec-3547-408c-a728-a06d7903baa0",
   "metadata": {},
   "outputs": [
    {
     "name": "stdout",
     "output_type": "stream",
     "text": [
      "0.9995\n"
     ]
    }
   ],
   "source": [
    "import numpy as np\n",
    "# for k in range(1,200):\n",
    "#     v1 = (np.float16(k)*(np.float16(1)/np.float16(k)))-1\n",
    "#     v2 = (np.float32(k)*(np.float32(1)/np.float32(k)))-1\n",
    "#     v3 = (np.float64(k)*(np.float64(1)/np.float64(k)))-1\n",
    "#     # if np.abs(v1)+np.abs(v2)+np.abs(v3)>0:\n",
    "#     if np.abs(v1)>0:\n",
    "#         print(k)\n",
    "\n",
    "k = 11\n",
    "v1 = (np.float16(k)*(np.float16(1)/np.float16(k)))\n",
    "v2 = (np.float32(k)*(np.float32(1)/np.float32(k)))\n",
    "v3 = (np.float64(k)*(np.float64(1)/np.float64(k)))\n",
    "print(v1)"
   ]
  },
  {
   "cell_type": "code",
   "execution_count": 39,
   "id": "f2cf3774-bd23-4b6c-9ccc-d975c220f064",
   "metadata": {},
   "outputs": [
    {
     "data": {
      "text/plain": [
       "11.0"
      ]
     },
     "execution_count": 39,
     "metadata": {},
     "output_type": "execute_result"
    }
   ],
   "source": [
    "np.float16(1/11)\n",
    "np.float16(11)"
   ]
  },
  {
   "cell_type": "code",
   "execution_count": 41,
   "id": "58f3fc3c-1e4d-4244-a8a5-80a7b2291270",
   "metadata": {},
   "outputs": [
    {
     "name": "stdout",
     "output_type": "stream",
     "text": [
      "0010110111010001\n",
      "1001000000000000\n"
     ]
    }
   ],
   "source": [
    "import bitstring\n",
    "f1 = bitstring.BitArray(float=(1/11), length=16)\n",
    "print(f1.bin)\n",
    "f2 = bitstring.BitArray(float=v1, length=16)\n",
    "print(f2.bin)"
   ]
  },
  {
   "cell_type": "code",
   "execution_count": 53,
   "id": "a98f22ef-04be-4356-a3a4-dfcbca9f871a",
   "metadata": {},
   "outputs": [
    {
     "ename": "TypeError",
     "evalue": "'numpy.float16' object cannot be interpreted as an integer",
     "output_type": "error",
     "traceback": [
      "\u001b[0;31m---------------------------------------------------------------------------\u001b[0m",
      "\u001b[0;31mTypeError\u001b[0m                                 Traceback (most recent call last)",
      "Cell \u001b[0;32mIn[53], line 1\u001b[0m\n\u001b[0;32m----> 1\u001b[0m \u001b[38;5;28;43mbin\u001b[39;49m\u001b[43m(\u001b[49m\u001b[43mnp\u001b[49m\u001b[38;5;241;43m.\u001b[39;49m\u001b[43mfloat16\u001b[49m\u001b[43m(\u001b[49m\u001b[38;5;241;43m1\u001b[39;49m\u001b[38;5;241;43m/\u001b[39;49m\u001b[38;5;241;43m11\u001b[39;49m\u001b[43m)\u001b[49m\u001b[43m)\u001b[49m\n",
      "\u001b[0;31mTypeError\u001b[0m: 'numpy.float16' object cannot be interpreted as an integer"
     ]
    }
   ],
   "source": []
  },
  {
   "cell_type": "code",
   "execution_count": null,
   "id": "4becb309-b17e-4ba9-b33a-e77c0740680b",
   "metadata": {},
   "outputs": [],
   "source": []
  }
 ],
 "metadata": {
  "kernelspec": {
   "display_name": "Python 3 (ipykernel)",
   "language": "python",
   "name": "python3"
  },
  "language_info": {
   "codemirror_mode": {
    "name": "ipython",
    "version": 3
   },
   "file_extension": ".py",
   "mimetype": "text/x-python",
   "name": "python",
   "nbconvert_exporter": "python",
   "pygments_lexer": "ipython3",
   "version": "3.11.4"
  }
 },
 "nbformat": 4,
 "nbformat_minor": 5
}
